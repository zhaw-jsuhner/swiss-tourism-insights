{
 "cells": [
  {
   "cell_type": "code",
   "execution_count": 4,
   "id": "a937234f",
   "metadata": {},
   "outputs": [],
   "source": [
    "import sqlite3\n",
    "import pandas as pd\n",
    "import plotly.express as px\n",
    "\n",
    "# Verbinde mit der SQLite-Datenbank\n",
    "conn = sqlite3.connect('../swiss_travel.db') \n",
    "\n",
    "# SQL Query\n",
    "query = \"\"\"\n",
    "SELECT h.hotel, h.place_cleaned, h.price_cleaned, p.\"Ortschaftsname\", p.E, p.N\n",
    "FROM hotels h\n",
    "INNER JOIN (\n",
    "    SELECT *, ROW_NUMBER() OVER (PARTITION BY \"Ortschaftsname\" ORDER BY \"Ortschaftsname\") AS rn\n",
    "    FROM places\n",
    ") p ON h.place_cleaned = p.\"Ortschaftsname\" AND p.rn = 1\n",
    "\"\"\"\n",
    "\n",
    "\n",
    "df_combined = pd.read_sql_query(query, conn)"
   ]
  },
  {
   "cell_type": "code",
   "execution_count": 5,
   "id": "bda818bf",
   "metadata": {},
   "outputs": [
    {
     "data": {
      "text/html": [
       "<div>\n",
       "<style scoped>\n",
       "    .dataframe tbody tr th:only-of-type {\n",
       "        vertical-align: middle;\n",
       "    }\n",
       "\n",
       "    .dataframe tbody tr th {\n",
       "        vertical-align: top;\n",
       "    }\n",
       "\n",
       "    .dataframe thead th {\n",
       "        text-align: right;\n",
       "    }\n",
       "</style>\n",
       "<table border=\"1\" class=\"dataframe\">\n",
       "  <thead>\n",
       "    <tr style=\"text-align: right;\">\n",
       "      <th></th>\n",
       "      <th>hotel</th>\n",
       "      <th>place_cleaned</th>\n",
       "      <th>price_cleaned</th>\n",
       "      <th>Ortschaftsname</th>\n",
       "      <th>E</th>\n",
       "      <th>N</th>\n",
       "    </tr>\n",
       "  </thead>\n",
       "  <tbody>\n",
       "    <tr>\n",
       "      <th>0</th>\n",
       "      <td>Good Night Inn</td>\n",
       "      <td>Brig</td>\n",
       "      <td>138.0</td>\n",
       "      <td>Brig</td>\n",
       "      <td>2643022.054</td>\n",
       "      <td>1129376.217</td>\n",
       "    </tr>\n",
       "    <tr>\n",
       "      <th>1</th>\n",
       "      <td>Agriturismo Regusci</td>\n",
       "      <td>Camorino</td>\n",
       "      <td>165.0</td>\n",
       "      <td>Camorino</td>\n",
       "      <td>2721585.340</td>\n",
       "      <td>1112884.534</td>\n",
       "    </tr>\n",
       "    <tr>\n",
       "      <th>2</th>\n",
       "      <td>Hotel Drei Könige</td>\n",
       "      <td>Einsiedeln</td>\n",
       "      <td>177.0</td>\n",
       "      <td>Einsiedeln</td>\n",
       "      <td>2698493.177</td>\n",
       "      <td>1221093.950</td>\n",
       "    </tr>\n",
       "    <tr>\n",
       "      <th>3</th>\n",
       "      <td>Eringer Hotel</td>\n",
       "      <td>Hérémence</td>\n",
       "      <td>228.0</td>\n",
       "      <td>Hérémence</td>\n",
       "      <td>2596510.782</td>\n",
       "      <td>1108654.451</td>\n",
       "    </tr>\n",
       "    <tr>\n",
       "      <th>4</th>\n",
       "      <td>Auberge des Grands Bois</td>\n",
       "      <td>Buchillon</td>\n",
       "      <td>174.0</td>\n",
       "      <td>Buchillon</td>\n",
       "      <td>2520933.442</td>\n",
       "      <td>1146668.837</td>\n",
       "    </tr>\n",
       "  </tbody>\n",
       "</table>\n",
       "</div>"
      ],
      "text/plain": [
       "                     hotel place_cleaned  price_cleaned Ortschaftsname  \\\n",
       "0           Good Night Inn          Brig          138.0           Brig   \n",
       "1      Agriturismo Regusci      Camorino          165.0       Camorino   \n",
       "2        Hotel Drei Könige    Einsiedeln          177.0     Einsiedeln   \n",
       "3            Eringer Hotel     Hérémence          228.0      Hérémence   \n",
       "4  Auberge des Grands Bois     Buchillon          174.0      Buchillon   \n",
       "\n",
       "             E            N  \n",
       "0  2643022.054  1129376.217  \n",
       "1  2721585.340  1112884.534  \n",
       "2  2698493.177  1221093.950  \n",
       "3  2596510.782  1108654.451  \n",
       "4  2520933.442  1146668.837  "
      ]
     },
     "execution_count": 5,
     "metadata": {},
     "output_type": "execute_result"
    }
   ],
   "source": [
    "df_combined.head()"
   ]
  },
  {
   "cell_type": "code",
   "execution_count": 6,
   "id": "bab688c2",
   "metadata": {},
   "outputs": [
    {
     "data": {
      "text/html": [
       "<div>\n",
       "<style scoped>\n",
       "    .dataframe tbody tr th:only-of-type {\n",
       "        vertical-align: middle;\n",
       "    }\n",
       "\n",
       "    .dataframe tbody tr th {\n",
       "        vertical-align: top;\n",
       "    }\n",
       "\n",
       "    .dataframe thead th {\n",
       "        text-align: right;\n",
       "    }\n",
       "</style>\n",
       "<table border=\"1\" class=\"dataframe\">\n",
       "  <thead>\n",
       "    <tr style=\"text-align: right;\">\n",
       "      <th></th>\n",
       "      <th>hotel</th>\n",
       "      <th>place_cleaned</th>\n",
       "      <th>price_cleaned</th>\n",
       "      <th>Ortschaftsname</th>\n",
       "      <th>E</th>\n",
       "      <th>N</th>\n",
       "      <th>lon</th>\n",
       "      <th>lat</th>\n",
       "    </tr>\n",
       "  </thead>\n",
       "  <tbody>\n",
       "    <tr>\n",
       "      <th>0</th>\n",
       "      <td>Good Night Inn</td>\n",
       "      <td>Brig</td>\n",
       "      <td>138.0</td>\n",
       "      <td>Brig</td>\n",
       "      <td>2643022.054</td>\n",
       "      <td>1129376.217</td>\n",
       "      <td>7.997168</td>\n",
       "      <td>46.314413</td>\n",
       "    </tr>\n",
       "    <tr>\n",
       "      <th>1</th>\n",
       "      <td>Agriturismo Regusci</td>\n",
       "      <td>Camorino</td>\n",
       "      <td>165.0</td>\n",
       "      <td>Camorino</td>\n",
       "      <td>2721585.340</td>\n",
       "      <td>1112884.534</td>\n",
       "      <td>9.012619</td>\n",
       "      <td>46.156468</td>\n",
       "    </tr>\n",
       "    <tr>\n",
       "      <th>2</th>\n",
       "      <td>Hotel Drei Könige</td>\n",
       "      <td>Einsiedeln</td>\n",
       "      <td>177.0</td>\n",
       "      <td>Einsiedeln</td>\n",
       "      <td>2698493.177</td>\n",
       "      <td>1221093.950</td>\n",
       "      <td>8.736918</td>\n",
       "      <td>47.133499</td>\n",
       "    </tr>\n",
       "    <tr>\n",
       "      <th>3</th>\n",
       "      <td>Eringer Hotel</td>\n",
       "      <td>Hérémence</td>\n",
       "      <td>228.0</td>\n",
       "      <td>Hérémence</td>\n",
       "      <td>2596510.782</td>\n",
       "      <td>1108654.451</td>\n",
       "      <td>7.393503</td>\n",
       "      <td>46.129373</td>\n",
       "    </tr>\n",
       "    <tr>\n",
       "      <th>4</th>\n",
       "      <td>Auberge des Grands Bois</td>\n",
       "      <td>Buchillon</td>\n",
       "      <td>174.0</td>\n",
       "      <td>Buchillon</td>\n",
       "      <td>2520933.442</td>\n",
       "      <td>1146668.837</td>\n",
       "      <td>6.409271</td>\n",
       "      <td>46.466667</td>\n",
       "    </tr>\n",
       "  </tbody>\n",
       "</table>\n",
       "</div>"
      ],
      "text/plain": [
       "                     hotel place_cleaned  price_cleaned Ortschaftsname  \\\n",
       "0           Good Night Inn          Brig          138.0           Brig   \n",
       "1      Agriturismo Regusci      Camorino          165.0       Camorino   \n",
       "2        Hotel Drei Könige    Einsiedeln          177.0     Einsiedeln   \n",
       "3            Eringer Hotel     Hérémence          228.0      Hérémence   \n",
       "4  Auberge des Grands Bois     Buchillon          174.0      Buchillon   \n",
       "\n",
       "             E            N       lon        lat  \n",
       "0  2643022.054  1129376.217  7.997168  46.314413  \n",
       "1  2721585.340  1112884.534  9.012619  46.156468  \n",
       "2  2698493.177  1221093.950  8.736918  47.133499  \n",
       "3  2596510.782  1108654.451  7.393503  46.129373  \n",
       "4  2520933.442  1146668.837  6.409271  46.466667  "
      ]
     },
     "execution_count": 6,
     "metadata": {},
     "output_type": "execute_result"
    }
   ],
   "source": [
    "from pyproj import Transformer\n",
    "\n",
    "# Create transformer: LV95 to WGS84\n",
    "transformer = Transformer.from_crs(\"EPSG:2056\", \"EPSG:4326\", always_xy=True)\n",
    "\n",
    "# Apply transformation\n",
    "df_combined[\"lon\"], df_combined[\"lat\"] = transformer.transform(df_combined[\"E\"].values, df_combined[\"N\"].values)\n",
    "\n",
    "df_combined.head()"
   ]
  },
  {
   "cell_type": "code",
   "execution_count": 7,
   "id": "5c13fbb4",
   "metadata": {},
   "outputs": [
    {
     "data": {
      "text/html": [
       "<div>\n",
       "<style scoped>\n",
       "    .dataframe tbody tr th:only-of-type {\n",
       "        vertical-align: middle;\n",
       "    }\n",
       "\n",
       "    .dataframe tbody tr th {\n",
       "        vertical-align: top;\n",
       "    }\n",
       "\n",
       "    .dataframe thead th {\n",
       "        text-align: right;\n",
       "    }\n",
       "</style>\n",
       "<table border=\"1\" class=\"dataframe\">\n",
       "  <thead>\n",
       "    <tr style=\"text-align: right;\">\n",
       "      <th></th>\n",
       "      <th>place_cleaned</th>\n",
       "      <th>avg_price</th>\n",
       "      <th>hotel_count</th>\n",
       "      <th>lon</th>\n",
       "      <th>lat</th>\n",
       "    </tr>\n",
       "  </thead>\n",
       "  <tbody>\n",
       "    <tr>\n",
       "      <th>0</th>\n",
       "      <td>Aarau</td>\n",
       "      <td>170.666667</td>\n",
       "      <td>3</td>\n",
       "      <td>8.048668</td>\n",
       "      <td>47.389014</td>\n",
       "    </tr>\n",
       "    <tr>\n",
       "      <th>1</th>\n",
       "      <td>Adelboden</td>\n",
       "      <td>383.500000</td>\n",
       "      <td>2</td>\n",
       "      <td>7.558185</td>\n",
       "      <td>46.469974</td>\n",
       "    </tr>\n",
       "    <tr>\n",
       "      <th>2</th>\n",
       "      <td>Agarn</td>\n",
       "      <td>169.000000</td>\n",
       "      <td>1</td>\n",
       "      <td>7.670872</td>\n",
       "      <td>46.292983</td>\n",
       "    </tr>\n",
       "    <tr>\n",
       "      <th>3</th>\n",
       "      <td>Airolo</td>\n",
       "      <td>195.000000</td>\n",
       "      <td>3</td>\n",
       "      <td>8.608554</td>\n",
       "      <td>46.536149</td>\n",
       "    </tr>\n",
       "    <tr>\n",
       "      <th>4</th>\n",
       "      <td>Amden</td>\n",
       "      <td>133.000000</td>\n",
       "      <td>1</td>\n",
       "      <td>9.164870</td>\n",
       "      <td>47.159760</td>\n",
       "    </tr>\n",
       "  </tbody>\n",
       "</table>\n",
       "</div>"
      ],
      "text/plain": [
       "  place_cleaned   avg_price  hotel_count       lon        lat\n",
       "0         Aarau  170.666667            3  8.048668  47.389014\n",
       "1     Adelboden  383.500000            2  7.558185  46.469974\n",
       "2         Agarn  169.000000            1  7.670872  46.292983\n",
       "3        Airolo  195.000000            3  8.608554  46.536149\n",
       "4         Amden  133.000000            1  9.164870  47.159760"
      ]
     },
     "execution_count": 7,
     "metadata": {},
     "output_type": "execute_result"
    }
   ],
   "source": [
    "grouped = df_combined.groupby(\"place_cleaned\").agg(\n",
    "    avg_price=(\"price_cleaned\", \"mean\"),\n",
    "    hotel_count=(\"hotel\", \"count\"),\n",
    "    lon=(\"lon\", \"first\"),\n",
    "    lat=(\"lat\", \"first\")\n",
    ").reset_index()\n",
    "\n",
    "grouped.head()"
   ]
  },
  {
   "cell_type": "code",
   "execution_count": 8,
   "id": "e53d7ca4",
   "metadata": {},
   "outputs": [
    {
     "name": "stderr",
     "output_type": "stream",
     "text": [
      "/tmp/ipykernel_75814/425338236.py:1: DeprecationWarning: *density_mapbox* is deprecated! Use *density_map* instead. Learn more at: https://plotly.com/python/mapbox-to-maplibre/\n",
      "  fig = px.density_mapbox(grouped,\n"
     ]
    },
    {
     "data": {
      "application/vnd.plotly.v1+json": {
       "config": {
        "plotlyServerURL": "https://plot.ly"
       },
       "data": [
        {
         "coloraxis": "coloraxis",
         "customdata": [
          [
           "Aarau",
           170.66666666666666
          ],
          [
           "Adelboden",
           383.5
          ],
          [
           "Agarn",
           169
          ],
          [
           "Airolo",
           195
          ],
          [
           "Amden",
           133
          ],
          [
           "Andeer",
           354
          ],
          [
           "Andelfingen",
           288
          ],
          [
           "Andermatt",
           223
          ],
          [
           "Anzonico",
           118
          ],
          [
           "Anzère",
           162
          ],
          [
           "Arbon",
           180.5
          ],
          [
           "Arolla",
           217.5
          ],
          [
           "Arosa",
           279.6666666666667
          ],
          [
           "Ascona",
           291.8888888888889
          ],
          [
           "Asuel",
           121
          ],
          [
           "Avegno",
           207
          ],
          [
           "Avenches",
           211
          ],
          [
           "Ayer",
           127
          ],
          [
           "Bachenbülach",
           157
          ],
          [
           "Bad Ragaz",
           394.5
          ],
          [
           "Bad Zurzach",
           253
          ],
          [
           "Baden",
           184.66666666666666
          ],
          [
           "Balerna",
           147.5
          ],
          [
           "Ballaigues",
           172
          ],
          [
           "Balsthal",
           190
          ],
          [
           "Basel",
           191.8125
          ],
          [
           "Bassersdorf",
           189
          ],
          [
           "Beatenberg",
           390.5
          ],
          [
           "Beckenried",
           228
          ],
          [
           "Belalp",
           230
          ],
          [
           "Bellevue",
           174
          ],
          [
           "Bellinzona",
           230.375
          ],
          [
           "Belp",
           187
          ],
          [
           "Bern",
           212.2
          ],
          [
           "Bettmeralp",
           288.3333333333333
          ],
          [
           "Biasca",
           164
          ],
          [
           "Biel/Bienne",
           159.6
          ],
          [
           "Bissone",
           376.75
          ],
          [
           "Bogis-Bossey",
           135
          ],
          [
           "Bottighofen",
           208
          ],
          [
           "Bottmingen",
           221
          ],
          [
           "Bouveret",
           169
          ],
          [
           "Brig",
           171
          ],
          [
           "Brissago",
           314
          ],
          [
           "Brunnen",
           435
          ],
          [
           "Brusino Arsizio",
           194
          ],
          [
           "Brütten",
           126
          ],
          [
           "Buchillon",
           174
          ],
          [
           "Bulle",
           138.8
          ],
          [
           "Buochs",
           268
          ],
          [
           "Burgdorf",
           241.66666666666666
          ],
          [
           "Buttes",
           164
          ],
          [
           "Böttstein",
           133
          ],
          [
           "Bühler",
           261
          ],
          [
           "Bürgenstock",
           1
          ],
          [
           "Cademario",
           282
          ],
          [
           "Camorino",
           165
          ],
          [
           "Carona",
           167
          ],
          [
           "Caslano",
           186
          ],
          [
           "Castelrotto",
           209
          ],
          [
           "Celerina/Schlarigna",
           399
          ],
          [
           "Chamoson",
           129
          ],
          [
           "Champéry",
           248
          ],
          [
           "Chavannes-de-Bogis",
           189
          ],
          [
           "Chexbres",
           186
          ],
          [
           "Chippis",
           150
          ],
          [
           "Chur",
           194.42857142857142
          ],
          [
           "Coinsins",
           172
          ],
          [
           "Comano",
           223
          ],
          [
           "Contra",
           327
          ],
          [
           "Crans-Montana",
           329
          ],
          [
           "Cugnasco",
           157
          ],
          [
           "Curio",
           197
          ],
          [
           "Delémont",
           133
          ],
          [
           "Dielsdorf",
           310
          ],
          [
           "Dietikon",
           155
          ],
          [
           "Dongio",
           168
          ],
          [
           "Dällikon",
           158
          ],
          [
           "Döttingen",
           172
          ],
          [
           "Dübendorf",
           191
          ],
          [
           "Effretikon",
           131
          ],
          [
           "Egerkingen",
           139.5
          ],
          [
           "Eglisau",
           172
          ],
          [
           "Eigenthal",
           215
          ],
          [
           "Einsiedeln",
           254.5
          ],
          [
           "Embd",
           89
          ],
          [
           "Engelberg",
           441.6
          ],
          [
           "Enges",
           139
          ],
          [
           "Entlebuch",
           224
          ],
          [
           "Estavayer-le-Lac",
           176
          ],
          [
           "Etoy",
           175
          ],
          [
           "Ettingen",
           141
          ],
          [
           "Evilard",
           207
          ],
          [
           "Evolène",
           310
          ],
          [
           "Fiesch",
           206
          ],
          [
           "Fischingen",
           174
          ],
          [
           "Flaach",
           137
          ],
          [
           "Flurlingen",
           179
          ],
          [
           "Founex",
           129
          ],
          [
           "Freienbach",
           252
          ],
          [
           "Fusio",
           210
          ],
          [
           "Gadmen",
           161
          ],
          [
           "Gandria",
           115
          ],
          [
           "Gerlafingen",
           151
          ],
          [
           "Gersau",
           288
          ],
          [
           "Gibswil",
           242
          ],
          [
           "Giubiasco",
           217.5
          ],
          [
           "Givisiez",
           126
          ],
          [
           "Glattbrugg",
           181
          ],
          [
           "Goldau",
           201
          ],
          [
           "Gordevio",
           146
          ],
          [
           "Gordola",
           135
          ],
          [
           "Gottlieben",
           318
          ],
          [
           "Grandevent",
           406
          ],
          [
           "Grenchen",
           120.5
          ],
          [
           "Grimentz",
           192
          ],
          [
           "Grindelwald",
           262.6666666666667
          ],
          [
           "Grächen",
           280
          ],
          [
           "Gstaad",
           430.2
          ],
          [
           "Guggisberg",
           137
          ],
          [
           "Guttet-Feschel",
           166
          ],
          [
           "Göschenen",
           255
          ],
          [
           "Habkern",
           297
          ],
          [
           "Hellbühl",
           164
          ],
          [
           "Herisau",
           203
          ],
          [
           "Horgen",
           266
          ],
          [
           "Huttwil",
           252
          ],
          [
           "Hérémence",
           228
          ],
          [
           "Höri",
           146
          ],
          [
           "Innerthal",
           118
          ],
          [
           "Innertkirchen",
           155
          ],
          [
           "Interlaken",
           318.57142857142856
          ],
          [
           "Iseltwald",
           349
          ],
          [
           "Isone",
           96
          ],
          [
           "Jenaz",
           160
          ],
          [
           "Kandersteg",
           336.6
          ],
          [
           "Kerzers",
           146
          ],
          [
           "Kiental",
           386
          ],
          [
           "Kloten",
           167.8
          ],
          [
           "Kreuzlingen",
           193.25
          ],
          [
           "Kriessern",
           186
          ],
          [
           "La Chaux-de-Fonds",
           177
          ],
          [
           "La Neuveville",
           245
          ],
          [
           "Langenthal",
           205
          ],
          [
           "Lausanne",
           184.95
          ],
          [
           "Lauterbrunnen",
           290.4
          ],
          [
           "Lavorgo",
           149
          ],
          [
           "Le Brassus",
           464
          ],
          [
           "Le Locle",
           257
          ],
          [
           "Le Pont",
           221
          ],
          [
           "Le Sentier",
           156
          ],
          [
           "Lenk im Simmental",
           335.6666666666667
          ],
          [
           "Lenzburg",
           206
          ],
          [
           "Lenzerheide/Lai",
           287.5
          ],
          [
           "Les Bois",
           193
          ],
          [
           "Les Collons",
           224
          ],
          [
           "Les Diablerets",
           268
          ],
          [
           "Leukerbad",
           205.28571428571428
          ],
          [
           "Leysin",
           229.5
          ],
          [
           "Liddes",
           130
          ],
          [
           "Liestal",
           179.5
          ],
          [
           "Locarno",
           256.10526315789474
          ],
          [
           "Losone",
           231
          ],
          [
           "Lugano",
           292.6818181818182
          ],
          [
           "Lumbrein",
           231
          ],
          [
           "Lungern",
           363.5
          ],
          [
           "Luzern",
           302.7692307692308
          ],
          [
           "Lyss",
           185
          ],
          [
           "Madiswil",
           193
          ],
          [
           "Maienfeld",
           127
          ],
          [
           "Maloja",
           231
          ],
          [
           "Massagno",
           670
          ],
          [
           "Massonnens",
           277
          ],
          [
           "Meilen",
           168
          ],
          [
           "Meiringen",
           334.3333333333333
          ],
          [
           "Melide",
           285.6666666666667
          ],
          [
           "Mendrisio",
           167.5
          ],
          [
           "Mesocco",
           140
          ],
          [
           "Mezzovico",
           176
          ],
          [
           "Mies",
           200
          ],
          [
           "Minusio",
           208
          ],
          [
           "Mitlödi",
           159
          ],
          [
           "Mols",
           169
          ],
          [
           "Mont-sur-Rolle",
           236
          ],
          [
           "Monte Carasso",
           203
          ],
          [
           "Montfaucon",
           135
          ],
          [
           "Montreux",
           259.25
          ],
          [
           "Morbio Inferiore",
           169
          ],
          [
           "Morcote",
           313.3333333333333
          ],
          [
           "Morges",
           171
          ],
          [
           "Morgins",
           140
          ],
          [
           "Morschach",
           216
          ],
          [
           "Mugena",
           185
          ],
          [
           "Muotathal",
           327
          ],
          [
           "Muralto",
           345
          ],
          [
           "Murten",
           423
          ],
          [
           "Muttenz",
           166
          ],
          [
           "Männedorf",
           247
          ],
          [
           "Mörel",
           259
          ],
          [
           "Münchenwiler",
           225
          ],
          [
           "Münster VS",
           453
          ],
          [
           "Mürren",
           280.5
          ],
          [
           "Naters",
           283
          ],
          [
           "Neuhausen am Rheinfall",
           172
          ],
          [
           "Nyon",
           181.4
          ],
          [
           "Oberentfelden",
           193
          ],
          [
           "Oftringen",
           216.5
          ],
          [
           "Olivone",
           304.5
          ],
          [
           "Olten",
           184
          ],
          [
           "Opfikon",
           210
          ],
          [
           "Orselina",
           331
          ],
          [
           "Orsières",
           232.5
          ],
          [
           "Ovronnaz",
           364.6666666666667
          ],
          [
           "Paradiso",
           140
          ],
          [
           "Perroy",
           142
          ],
          [
           "Piotta",
           229
          ],
          [
           "Platta",
           174
          ],
          [
           "Ponte Tresa",
           215
          ],
          [
           "Pontresina",
           407
          ],
          [
           "Porza",
           146
          ],
          [
           "Poschiavo",
           301
          ],
          [
           "Prangins",
           150
          ],
          [
           "Pratteln",
           136
          ],
          [
           "Prêles",
           298
          ],
          [
           "Pugerna",
           346
          ],
          [
           "Quarten",
           237
          ],
          [
           "Quartino",
           262
          ],
          [
           "Quinto",
           137
          ],
          [
           "Ramosch",
           174
          ],
          [
           "Rheinfelden",
           219
          ],
          [
           "Riazzino",
           241
          ],
          [
           "Rigi Kaltbad",
           317
          ],
          [
           "Rivaz",
           100
          ],
          [
           "Rivera",
           186
          ],
          [
           "Rolle",
           254
          ],
          [
           "Romanshorn",
           175
          ],
          [
           "Rorschacherberg",
           212
          ],
          [
           "Rothrist",
           224
          ],
          [
           "Rueun",
           129
          ],
          [
           "Rümlang",
           173.5
          ],
          [
           "Saas-Balen",
           100
          ],
          [
           "Saas-Fee",
           376
          ],
          [
           "Saignelégier",
           130
          ],
          [
           "Samedan",
           294
          ],
          [
           "Sargans",
           177
          ],
          [
           "Saulcy",
           208
          ],
          [
           "Savognin",
           245
          ],
          [
           "Sax",
           199
          ],
          [
           "Schaffhausen",
           183.66666666666666
          ],
          [
           "Schafisheim",
           136
          ],
          [
           "Schwyz",
           138
          ],
          [
           "Schönenwerd",
           161
          ],
          [
           "Schüpfen",
           161
          ],
          [
           "Scuol",
           248.75
          ],
          [
           "Sedrun",
           190
          ],
          [
           "Sementina",
           295
          ],
          [
           "Serpiano",
           191
          ],
          [
           "Sevelen",
           132
          ],
          [
           "Sigigen",
           122
          ],
          [
           "Silvaplana",
           482
          ],
          [
           "Sion",
           169
          ],
          [
           "Solothurn",
           185.5
          ],
          [
           "Soubey",
           148
          ],
          [
           "Speicher",
           287
          ],
          [
           "Spiez",
           253
          ],
          [
           "Spreitenbach",
           134
          ],
          [
           "St. Gallen",
           174.93333333333334
          ],
          [
           "St. Moritz",
           389.75
          ],
          [
           "Stabio",
           190
          ],
          [
           "Stans",
           190
          ],
          [
           "Stansstad",
           332
          ],
          [
           "Stein am Rhein",
           222.5
          ],
          [
           "Stettlen",
           177
          ],
          [
           "Stäfa",
           121
          ],
          [
           "Suchy",
           164
          ],
          [
           "Sufers",
           140
          ],
          [
           "Sugiez",
           189
          ],
          [
           "Sursee",
           206
          ],
          [
           "Taverne",
           164
          ],
          [
           "Tegna",
           241
          ],
          [
           "Thalwil",
           350
          ],
          [
           "Thusis",
           279
          ],
          [
           "Tramelan",
           439
          ],
          [
           "Travers",
           268
          ],
          [
           "Täsch",
           486
          ],
          [
           "Ulrichen",
           202.5
          ],
          [
           "Uster",
           195
          ],
          [
           "Vacallo",
           453
          ],
          [
           "Valbella",
           244
          ],
          [
           "Valchava",
           258
          ],
          [
           "Vals",
           140
          ],
          [
           "Vaulruz",
           161
          ],
          [
           "Verbier",
           431.3333333333333
          ],
          [
           "Vercorin",
           254
          ],
          [
           "Versoix",
           195
          ],
          [
           "Vevey",
           212.5
          ],
          [
           "Veytaux",
           398
          ],
          [
           "Vicosoprano",
           259
          ],
          [
           "Villars-sur-Ollon",
           328.5
          ],
          [
           "Villeret",
           58
          ],
          [
           "Villmergen",
           159
          ],
          [
           "Vinelz",
           193
          ],
          [
           "Visp",
           201.33333333333334
          ],
          [
           "Vitznau",
           482
          ],
          [
           "Vulpera",
           289
          ],
          [
           "Waldkirch",
           114
          ],
          [
           "Wallisellen",
           188.5
          ],
          [
           "Weesen",
           250
          ],
          [
           "Weissbad",
           252
          ],
          [
           "Wengen",
           464.42857142857144
          ],
          [
           "Wilderswil",
           324.75
          ],
          [
           "Wildhaus",
           255.5
          ],
          [
           "Winterthur",
           148.5
          ],
          [
           "Yverdon-les-Bains",
           214
          ],
          [
           "Zermatt",
           563.3333333333334
          ],
          [
           "Zernez",
           199.33333333333334
          ],
          [
           "Zinal",
           168.5
          ],
          [
           "Zuchwil",
           202
          ],
          [
           "Zug",
           287.8
          ],
          [
           "Zürich",
           338.6190476190476
          ]
         ],
         "hovertemplate": "hotel_count=%{z}<br>lat=%{lat}<br>lon=%{lon}<br>place_cleaned=%{customdata[0]}<br>avg_price=%{customdata[1]}<extra></extra>",
         "lat": {
          "bdata": "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",
          "dtype": "f8"
         },
         "lon": {
          "bdata": "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",
          "dtype": "f8"
         },
         "name": "",
         "radius": 25,
         "subplot": "mapbox",
         "type": "densitymapbox",
         "z": {
          "bdata": "AwIBAwEBAQMBAgICAwkBAQIBAQQDAwQBATABAgEBAQgBFAMBBQQBAQEBBgQBAgEBBQEDAQEBAQIBAQEBAgECAQEBBwEBAQkBAQIBAgEBAQICAgEBAgEFAQEDAwEBAgIBAQEBAQEBAQEBAQIBBAEBAQEBAgEDAgUBAQECAQEBAQEBAQEOAQEBBQEBBQQBBQEBFAUCAQEBAQMBBAECAQcEAQITARYBAg0BAQEBAQEBAwMCAQEBAQEBAQEBDAEDAgEBAQEBAgIBAQEBAgEBBQECAgIBAQIDAQEBAQEBAQEBAgEBAQECAQECAQEBAQECAQEEAQICAgEBAQEDAQEBAQQBAQECAQEDAgEBAQQPBAEBAQIBAQEBAQIBAQEBAQIBAgEBAQEBAQMBAQQBAQIBAQEDAQEBAgEBBwQCBgEGAwIBBT8=",
          "dtype": "i1"
         }
        }
       ],
       "layout": {
        "coloraxis": {
         "colorbar": {
          "title": {
           "text": "hotel_count"
          }
         },
         "colorscale": [
          [
           0,
           "#440154"
          ],
          [
           0.1111111111111111,
           "#482878"
          ],
          [
           0.2222222222222222,
           "#3e4989"
          ],
          [
           0.3333333333333333,
           "#31688e"
          ],
          [
           0.4444444444444444,
           "#26828e"
          ],
          [
           0.5555555555555556,
           "#1f9e89"
          ],
          [
           0.6666666666666666,
           "#35b779"
          ],
          [
           0.7777777777777778,
           "#6ece58"
          ],
          [
           0.8888888888888888,
           "#b5de2b"
          ],
          [
           1,
           "#fde725"
          ]
         ]
        },
        "height": 800,
        "legend": {
         "tracegroupgap": 0
        },
        "mapbox": {
         "center": {
          "lat": 46.751237603359336,
          "lon": 8.191709926454854
         },
         "domain": {
          "x": [
           0,
           1
          ],
          "y": [
           0,
           1
          ]
         },
         "style": "carto-positron",
         "zoom": 7
        },
        "template": {
         "data": {
          "bar": [
           {
            "error_x": {
             "color": "#2a3f5f"
            },
            "error_y": {
             "color": "#2a3f5f"
            },
            "marker": {
             "line": {
              "color": "#E5ECF6",
              "width": 0.5
             },
             "pattern": {
              "fillmode": "overlay",
              "size": 10,
              "solidity": 0.2
             }
            },
            "type": "bar"
           }
          ],
          "barpolar": [
           {
            "marker": {
             "line": {
              "color": "#E5ECF6",
              "width": 0.5
             },
             "pattern": {
              "fillmode": "overlay",
              "size": 10,
              "solidity": 0.2
             }
            },
            "type": "barpolar"
           }
          ],
          "carpet": [
           {
            "aaxis": {
             "endlinecolor": "#2a3f5f",
             "gridcolor": "white",
             "linecolor": "white",
             "minorgridcolor": "white",
             "startlinecolor": "#2a3f5f"
            },
            "baxis": {
             "endlinecolor": "#2a3f5f",
             "gridcolor": "white",
             "linecolor": "white",
             "minorgridcolor": "white",
             "startlinecolor": "#2a3f5f"
            },
            "type": "carpet"
           }
          ],
          "choropleth": [
           {
            "colorbar": {
             "outlinewidth": 0,
             "ticks": ""
            },
            "type": "choropleth"
           }
          ],
          "contour": [
           {
            "colorbar": {
             "outlinewidth": 0,
             "ticks": ""
            },
            "colorscale": [
             [
              0,
              "#0d0887"
             ],
             [
              0.1111111111111111,
              "#46039f"
             ],
             [
              0.2222222222222222,
              "#7201a8"
             ],
             [
              0.3333333333333333,
              "#9c179e"
             ],
             [
              0.4444444444444444,
              "#bd3786"
             ],
             [
              0.5555555555555556,
              "#d8576b"
             ],
             [
              0.6666666666666666,
              "#ed7953"
             ],
             [
              0.7777777777777778,
              "#fb9f3a"
             ],
             [
              0.8888888888888888,
              "#fdca26"
             ],
             [
              1,
              "#f0f921"
             ]
            ],
            "type": "contour"
           }
          ],
          "contourcarpet": [
           {
            "colorbar": {
             "outlinewidth": 0,
             "ticks": ""
            },
            "type": "contourcarpet"
           }
          ],
          "heatmap": [
           {
            "colorbar": {
             "outlinewidth": 0,
             "ticks": ""
            },
            "colorscale": [
             [
              0,
              "#0d0887"
             ],
             [
              0.1111111111111111,
              "#46039f"
             ],
             [
              0.2222222222222222,
              "#7201a8"
             ],
             [
              0.3333333333333333,
              "#9c179e"
             ],
             [
              0.4444444444444444,
              "#bd3786"
             ],
             [
              0.5555555555555556,
              "#d8576b"
             ],
             [
              0.6666666666666666,
              "#ed7953"
             ],
             [
              0.7777777777777778,
              "#fb9f3a"
             ],
             [
              0.8888888888888888,
              "#fdca26"
             ],
             [
              1,
              "#f0f921"
             ]
            ],
            "type": "heatmap"
           }
          ],
          "histogram": [
           {
            "marker": {
             "pattern": {
              "fillmode": "overlay",
              "size": 10,
              "solidity": 0.2
             }
            },
            "type": "histogram"
           }
          ],
          "histogram2d": [
           {
            "colorbar": {
             "outlinewidth": 0,
             "ticks": ""
            },
            "colorscale": [
             [
              0,
              "#0d0887"
             ],
             [
              0.1111111111111111,
              "#46039f"
             ],
             [
              0.2222222222222222,
              "#7201a8"
             ],
             [
              0.3333333333333333,
              "#9c179e"
             ],
             [
              0.4444444444444444,
              "#bd3786"
             ],
             [
              0.5555555555555556,
              "#d8576b"
             ],
             [
              0.6666666666666666,
              "#ed7953"
             ],
             [
              0.7777777777777778,
              "#fb9f3a"
             ],
             [
              0.8888888888888888,
              "#fdca26"
             ],
             [
              1,
              "#f0f921"
             ]
            ],
            "type": "histogram2d"
           }
          ],
          "histogram2dcontour": [
           {
            "colorbar": {
             "outlinewidth": 0,
             "ticks": ""
            },
            "colorscale": [
             [
              0,
              "#0d0887"
             ],
             [
              0.1111111111111111,
              "#46039f"
             ],
             [
              0.2222222222222222,
              "#7201a8"
             ],
             [
              0.3333333333333333,
              "#9c179e"
             ],
             [
              0.4444444444444444,
              "#bd3786"
             ],
             [
              0.5555555555555556,
              "#d8576b"
             ],
             [
              0.6666666666666666,
              "#ed7953"
             ],
             [
              0.7777777777777778,
              "#fb9f3a"
             ],
             [
              0.8888888888888888,
              "#fdca26"
             ],
             [
              1,
              "#f0f921"
             ]
            ],
            "type": "histogram2dcontour"
           }
          ],
          "mesh3d": [
           {
            "colorbar": {
             "outlinewidth": 0,
             "ticks": ""
            },
            "type": "mesh3d"
           }
          ],
          "parcoords": [
           {
            "line": {
             "colorbar": {
              "outlinewidth": 0,
              "ticks": ""
             }
            },
            "type": "parcoords"
           }
          ],
          "pie": [
           {
            "automargin": true,
            "type": "pie"
           }
          ],
          "scatter": [
           {
            "fillpattern": {
             "fillmode": "overlay",
             "size": 10,
             "solidity": 0.2
            },
            "type": "scatter"
           }
          ],
          "scatter3d": [
           {
            "line": {
             "colorbar": {
              "outlinewidth": 0,
              "ticks": ""
             }
            },
            "marker": {
             "colorbar": {
              "outlinewidth": 0,
              "ticks": ""
             }
            },
            "type": "scatter3d"
           }
          ],
          "scattercarpet": [
           {
            "marker": {
             "colorbar": {
              "outlinewidth": 0,
              "ticks": ""
             }
            },
            "type": "scattercarpet"
           }
          ],
          "scattergeo": [
           {
            "marker": {
             "colorbar": {
              "outlinewidth": 0,
              "ticks": ""
             }
            },
            "type": "scattergeo"
           }
          ],
          "scattergl": [
           {
            "marker": {
             "colorbar": {
              "outlinewidth": 0,
              "ticks": ""
             }
            },
            "type": "scattergl"
           }
          ],
          "scattermap": [
           {
            "marker": {
             "colorbar": {
              "outlinewidth": 0,
              "ticks": ""
             }
            },
            "type": "scattermap"
           }
          ],
          "scattermapbox": [
           {
            "marker": {
             "colorbar": {
              "outlinewidth": 0,
              "ticks": ""
             }
            },
            "type": "scattermapbox"
           }
          ],
          "scatterpolar": [
           {
            "marker": {
             "colorbar": {
              "outlinewidth": 0,
              "ticks": ""
             }
            },
            "type": "scatterpolar"
           }
          ],
          "scatterpolargl": [
           {
            "marker": {
             "colorbar": {
              "outlinewidth": 0,
              "ticks": ""
             }
            },
            "type": "scatterpolargl"
           }
          ],
          "scatterternary": [
           {
            "marker": {
             "colorbar": {
              "outlinewidth": 0,
              "ticks": ""
             }
            },
            "type": "scatterternary"
           }
          ],
          "surface": [
           {
            "colorbar": {
             "outlinewidth": 0,
             "ticks": ""
            },
            "colorscale": [
             [
              0,
              "#0d0887"
             ],
             [
              0.1111111111111111,
              "#46039f"
             ],
             [
              0.2222222222222222,
              "#7201a8"
             ],
             [
              0.3333333333333333,
              "#9c179e"
             ],
             [
              0.4444444444444444,
              "#bd3786"
             ],
             [
              0.5555555555555556,
              "#d8576b"
             ],
             [
              0.6666666666666666,
              "#ed7953"
             ],
             [
              0.7777777777777778,
              "#fb9f3a"
             ],
             [
              0.8888888888888888,
              "#fdca26"
             ],
             [
              1,
              "#f0f921"
             ]
            ],
            "type": "surface"
           }
          ],
          "table": [
           {
            "cells": {
             "fill": {
              "color": "#EBF0F8"
             },
             "line": {
              "color": "white"
             }
            },
            "header": {
             "fill": {
              "color": "#C8D4E3"
             },
             "line": {
              "color": "white"
             }
            },
            "type": "table"
           }
          ]
         },
         "layout": {
          "annotationdefaults": {
           "arrowcolor": "#2a3f5f",
           "arrowhead": 0,
           "arrowwidth": 1
          },
          "autotypenumbers": "strict",
          "coloraxis": {
           "colorbar": {
            "outlinewidth": 0,
            "ticks": ""
           }
          },
          "colorscale": {
           "diverging": [
            [
             0,
             "#8e0152"
            ],
            [
             0.1,
             "#c51b7d"
            ],
            [
             0.2,
             "#de77ae"
            ],
            [
             0.3,
             "#f1b6da"
            ],
            [
             0.4,
             "#fde0ef"
            ],
            [
             0.5,
             "#f7f7f7"
            ],
            [
             0.6,
             "#e6f5d0"
            ],
            [
             0.7,
             "#b8e186"
            ],
            [
             0.8,
             "#7fbc41"
            ],
            [
             0.9,
             "#4d9221"
            ],
            [
             1,
             "#276419"
            ]
           ],
           "sequential": [
            [
             0,
             "#0d0887"
            ],
            [
             0.1111111111111111,
             "#46039f"
            ],
            [
             0.2222222222222222,
             "#7201a8"
            ],
            [
             0.3333333333333333,
             "#9c179e"
            ],
            [
             0.4444444444444444,
             "#bd3786"
            ],
            [
             0.5555555555555556,
             "#d8576b"
            ],
            [
             0.6666666666666666,
             "#ed7953"
            ],
            [
             0.7777777777777778,
             "#fb9f3a"
            ],
            [
             0.8888888888888888,
             "#fdca26"
            ],
            [
             1,
             "#f0f921"
            ]
           ],
           "sequentialminus": [
            [
             0,
             "#0d0887"
            ],
            [
             0.1111111111111111,
             "#46039f"
            ],
            [
             0.2222222222222222,
             "#7201a8"
            ],
            [
             0.3333333333333333,
             "#9c179e"
            ],
            [
             0.4444444444444444,
             "#bd3786"
            ],
            [
             0.5555555555555556,
             "#d8576b"
            ],
            [
             0.6666666666666666,
             "#ed7953"
            ],
            [
             0.7777777777777778,
             "#fb9f3a"
            ],
            [
             0.8888888888888888,
             "#fdca26"
            ],
            [
             1,
             "#f0f921"
            ]
           ]
          },
          "colorway": [
           "#636efa",
           "#EF553B",
           "#00cc96",
           "#ab63fa",
           "#FFA15A",
           "#19d3f3",
           "#FF6692",
           "#B6E880",
           "#FF97FF",
           "#FECB52"
          ],
          "font": {
           "color": "#2a3f5f"
          },
          "geo": {
           "bgcolor": "white",
           "lakecolor": "white",
           "landcolor": "#E5ECF6",
           "showlakes": true,
           "showland": true,
           "subunitcolor": "white"
          },
          "hoverlabel": {
           "align": "left"
          },
          "hovermode": "closest",
          "mapbox": {
           "style": "light"
          },
          "paper_bgcolor": "white",
          "plot_bgcolor": "#E5ECF6",
          "polar": {
           "angularaxis": {
            "gridcolor": "white",
            "linecolor": "white",
            "ticks": ""
           },
           "bgcolor": "#E5ECF6",
           "radialaxis": {
            "gridcolor": "white",
            "linecolor": "white",
            "ticks": ""
           }
          },
          "scene": {
           "xaxis": {
            "backgroundcolor": "#E5ECF6",
            "gridcolor": "white",
            "gridwidth": 2,
            "linecolor": "white",
            "showbackground": true,
            "ticks": "",
            "zerolinecolor": "white"
           },
           "yaxis": {
            "backgroundcolor": "#E5ECF6",
            "gridcolor": "white",
            "gridwidth": 2,
            "linecolor": "white",
            "showbackground": true,
            "ticks": "",
            "zerolinecolor": "white"
           },
           "zaxis": {
            "backgroundcolor": "#E5ECF6",
            "gridcolor": "white",
            "gridwidth": 2,
            "linecolor": "white",
            "showbackground": true,
            "ticks": "",
            "zerolinecolor": "white"
           }
          },
          "shapedefaults": {
           "line": {
            "color": "#2a3f5f"
           }
          },
          "ternary": {
           "aaxis": {
            "gridcolor": "white",
            "linecolor": "white",
            "ticks": ""
           },
           "baxis": {
            "gridcolor": "white",
            "linecolor": "white",
            "ticks": ""
           },
           "bgcolor": "#E5ECF6",
           "caxis": {
            "gridcolor": "white",
            "linecolor": "white",
            "ticks": ""
           }
          },
          "title": {
           "x": 0.05
          },
          "xaxis": {
           "automargin": true,
           "gridcolor": "white",
           "linecolor": "white",
           "ticks": "",
           "title": {
            "standoff": 15
           },
           "zerolinecolor": "white",
           "zerolinewidth": 2
          },
          "yaxis": {
           "automargin": true,
           "gridcolor": "white",
           "linecolor": "white",
           "ticks": "",
           "title": {
            "standoff": 15
           },
           "zerolinecolor": "white",
           "zerolinewidth": 2
          }
         }
        },
        "title": {
         "text": "Hotel Density in Switzerland"
        }
       }
      }
     },
     "metadata": {},
     "output_type": "display_data"
    }
   ],
   "source": [
    "fig = px.density_mapbox(grouped,\n",
    "                        lat=\"lat\",\n",
    "                        lon=\"lon\",\n",
    "                        z=\"hotel_count\",  # Use number of hotels for density\n",
    "                        radius=25,\n",
    "                        hover_data=[\"place_cleaned\", \"avg_price\", \"hotel_count\"],\n",
    "                        zoom=7,\n",
    "                        height=800,\n",
    "                        title=\"Hotel Density in Switzerland\",\n",
    "                        mapbox_style=\"carto-positron\",\n",
    "                        color_continuous_scale=\"Viridis\")\n",
    "\n",
    "fig.show()"
   ]
  },
  {
   "cell_type": "code",
   "execution_count": 13,
   "id": "ed84a5fe",
   "metadata": {},
   "outputs": [
    {
     "name": "stderr",
     "output_type": "stream",
     "text": [
      "/tmp/ipykernel_75814/761833296.py:3: DeprecationWarning:\n",
      "\n",
      "*density_mapbox* is deprecated! Use *density_map* instead. Learn more at: https://plotly.com/python/mapbox-to-maplibre/\n",
      "\n"
     ]
    },
    {
     "ename": "ValueError",
     "evalue": "\nImage export using the \"kaleido\" engine requires the Kaleido package,\nwhich can be installed using pip:\n\n    $ pip install --upgrade kaleido\n",
     "output_type": "error",
     "traceback": [
      "\u001b[31m---------------------------------------------------------------------------\u001b[39m",
      "\u001b[31mValueError\u001b[39m                                Traceback (most recent call last)",
      "\u001b[36mCell\u001b[39m\u001b[36m \u001b[39m\u001b[32mIn[13]\u001b[39m\u001b[32m, line 15\u001b[39m\n\u001b[32m      1\u001b[39m \u001b[38;5;28;01mimport\u001b[39;00m\u001b[38;5;250m \u001b[39m\u001b[34;01mplotly\u001b[39;00m\u001b[34;01m.\u001b[39;00m\u001b[34;01mexpress\u001b[39;00m\u001b[38;5;250m \u001b[39m\u001b[38;5;28;01mas\u001b[39;00m\u001b[38;5;250m \u001b[39m\u001b[34;01mpx\u001b[39;00m\n\u001b[32m      3\u001b[39m fig = px.density_mapbox(grouped,\n\u001b[32m      4\u001b[39m                         lat=\u001b[33m\"\u001b[39m\u001b[33mlat\u001b[39m\u001b[33m\"\u001b[39m,\n\u001b[32m      5\u001b[39m                         lon=\u001b[33m\"\u001b[39m\u001b[33mlon\u001b[39m\u001b[33m\"\u001b[39m,\n\u001b[32m   (...)\u001b[39m\u001b[32m     13\u001b[39m                         color_continuous_scale=\u001b[33m\"\u001b[39m\u001b[33mViridis\u001b[39m\u001b[33m\"\u001b[39m\n\u001b[32m     14\u001b[39m )\n\u001b[32m---> \u001b[39m\u001b[32m15\u001b[39m \u001b[43mfig\u001b[49m\u001b[43m.\u001b[49m\u001b[43mwrite_image\u001b[49m\u001b[43m(\u001b[49m\u001b[33;43m'\u001b[39;49m\u001b[33;43m../app/static/heatmap_avg_price.png\u001b[39;49m\u001b[33;43m'\u001b[39;49m\u001b[43m)\u001b[49m\n\u001b[32m     16\u001b[39m fig.show()\n",
      "\u001b[36mFile \u001b[39m\u001b[32m/workspaces/swiss-tourism-insights/venv/lib/python3.12/site-packages/plotly/basedatatypes.py:3911\u001b[39m, in \u001b[36mBaseFigure.write_image\u001b[39m\u001b[34m(self, *args, **kwargs)\u001b[39m\n\u001b[32m   3907\u001b[39m     \u001b[38;5;28;01mif\u001b[39;00m kwargs.get(\u001b[33m\"\u001b[39m\u001b[33mengine\u001b[39m\u001b[33m\"\u001b[39m, \u001b[38;5;28;01mNone\u001b[39;00m):\n\u001b[32m   3908\u001b[39m         warnings.warn(\n\u001b[32m   3909\u001b[39m             ENGINE_PARAM_DEPRECATION_MSG, \u001b[38;5;167;01mDeprecationWarning\u001b[39;00m, stacklevel=\u001b[32m2\u001b[39m\n\u001b[32m   3910\u001b[39m         )\n\u001b[32m-> \u001b[39m\u001b[32m3911\u001b[39m \u001b[38;5;28;01mreturn\u001b[39;00m \u001b[43mpio\u001b[49m\u001b[43m.\u001b[49m\u001b[43mwrite_image\u001b[49m\u001b[43m(\u001b[49m\u001b[38;5;28;43mself\u001b[39;49m\u001b[43m,\u001b[49m\u001b[43m \u001b[49m\u001b[43m*\u001b[49m\u001b[43margs\u001b[49m\u001b[43m,\u001b[49m\u001b[43m \u001b[49m\u001b[43m*\u001b[49m\u001b[43m*\u001b[49m\u001b[43mkwargs\u001b[49m\u001b[43m)\u001b[49m\n",
      "\u001b[36mFile \u001b[39m\u001b[32m/workspaces/swiss-tourism-insights/venv/lib/python3.12/site-packages/plotly/io/_kaleido.py:509\u001b[39m, in \u001b[36mwrite_image\u001b[39m\u001b[34m(fig, file, format, scale, width, height, validate, engine)\u001b[39m\n\u001b[32m    505\u001b[39m \u001b[38;5;28mformat\u001b[39m = infer_format(path, \u001b[38;5;28mformat\u001b[39m)\n\u001b[32m    507\u001b[39m \u001b[38;5;66;03m# Request image\u001b[39;00m\n\u001b[32m    508\u001b[39m \u001b[38;5;66;03m# Do this first so we don't create a file if image conversion fails\u001b[39;00m\n\u001b[32m--> \u001b[39m\u001b[32m509\u001b[39m img_data = \u001b[43mto_image\u001b[49m\u001b[43m(\u001b[49m\n\u001b[32m    510\u001b[39m \u001b[43m    \u001b[49m\u001b[43mfig\u001b[49m\u001b[43m,\u001b[49m\n\u001b[32m    511\u001b[39m \u001b[43m    \u001b[49m\u001b[38;5;28;43mformat\u001b[39;49m\u001b[43m=\u001b[49m\u001b[38;5;28;43mformat\u001b[39;49m\u001b[43m,\u001b[49m\n\u001b[32m    512\u001b[39m \u001b[43m    \u001b[49m\u001b[43mscale\u001b[49m\u001b[43m=\u001b[49m\u001b[43mscale\u001b[49m\u001b[43m,\u001b[49m\n\u001b[32m    513\u001b[39m \u001b[43m    \u001b[49m\u001b[43mwidth\u001b[49m\u001b[43m=\u001b[49m\u001b[43mwidth\u001b[49m\u001b[43m,\u001b[49m\n\u001b[32m    514\u001b[39m \u001b[43m    \u001b[49m\u001b[43mheight\u001b[49m\u001b[43m=\u001b[49m\u001b[43mheight\u001b[49m\u001b[43m,\u001b[49m\n\u001b[32m    515\u001b[39m \u001b[43m    \u001b[49m\u001b[43mvalidate\u001b[49m\u001b[43m=\u001b[49m\u001b[43mvalidate\u001b[49m\u001b[43m,\u001b[49m\n\u001b[32m    516\u001b[39m \u001b[43m    \u001b[49m\u001b[43mengine\u001b[49m\u001b[43m=\u001b[49m\u001b[43mengine\u001b[49m\u001b[43m,\u001b[49m\n\u001b[32m    517\u001b[39m \u001b[43m\u001b[49m\u001b[43m)\u001b[49m\n\u001b[32m    519\u001b[39m \u001b[38;5;66;03m# Open file\u001b[39;00m\n\u001b[32m    520\u001b[39m \u001b[38;5;28;01mif\u001b[39;00m path \u001b[38;5;129;01mis\u001b[39;00m \u001b[38;5;28;01mNone\u001b[39;00m:\n\u001b[32m    521\u001b[39m     \u001b[38;5;66;03m# We previously failed to make sense of `file` as a pathlib object.\u001b[39;00m\n\u001b[32m    522\u001b[39m     \u001b[38;5;66;03m# Attempt to write to `file` as an open file descriptor.\u001b[39;00m\n",
      "\u001b[36mFile \u001b[39m\u001b[32m/workspaces/swiss-tourism-insights/venv/lib/python3.12/site-packages/plotly/io/_kaleido.py:344\u001b[39m, in \u001b[36mto_image\u001b[39m\u001b[34m(fig, format, width, height, scale, validate, engine)\u001b[39m\n\u001b[32m    342\u001b[39m     \u001b[38;5;66;03m# Raise informative error message if Kaleido is not installed\u001b[39;00m\n\u001b[32m    343\u001b[39m     \u001b[38;5;28;01mif\u001b[39;00m \u001b[38;5;129;01mnot\u001b[39;00m kaleido_available():\n\u001b[32m--> \u001b[39m\u001b[32m344\u001b[39m         \u001b[38;5;28;01mraise\u001b[39;00m \u001b[38;5;167;01mValueError\u001b[39;00m(\n\u001b[32m    345\u001b[39m \u001b[38;5;250m            \u001b[39m\u001b[33;03m\"\"\"\u001b[39;00m\n\u001b[32m    346\u001b[39m \u001b[33;03mImage export using the \"kaleido\" engine requires the Kaleido package,\u001b[39;00m\n\u001b[32m    347\u001b[39m \u001b[33;03mwhich can be installed using pip:\u001b[39;00m\n\u001b[32m    348\u001b[39m \n\u001b[32m    349\u001b[39m \u001b[33;03m    $ pip install --upgrade kaleido\u001b[39;00m\n\u001b[32m    350\u001b[39m \u001b[33;03m\"\"\"\u001b[39;00m\n\u001b[32m    351\u001b[39m         )\n\u001b[32m    353\u001b[39m     \u001b[38;5;66;03m# Convert figure to dict (and validate if requested)\u001b[39;00m\n\u001b[32m    354\u001b[39m     fig_dict = validate_coerce_fig_to_dict(fig, validate)\n",
      "\u001b[31mValueError\u001b[39m: \nImage export using the \"kaleido\" engine requires the Kaleido package,\nwhich can be installed using pip:\n\n    $ pip install --upgrade kaleido\n"
     ]
    }
   ],
   "source": [
    "import plotly.express as px\n",
    "\n",
    "fig = px.density_mapbox(grouped,\n",
    "                        lat=\"lat\",\n",
    "                        lon=\"lon\",\n",
    "                        z=\"avg_price\",\n",
    "                        radius=25,\n",
    "                        hover_data=[\"place_cleaned\", \"avg_price\", \"hotel_count\"],\n",
    "                        zoom=7,\n",
    "                        height=800,\n",
    "                        title=\"Heatmap Average Hotel Prices by Location\",\n",
    "                        mapbox_style=\"carto-positron\",\n",
    "                        color_continuous_scale=\"Viridis\"\n",
    ")\n",
    "fig.write_image('../app/static/heatmap_avg_price.png')\n",
    "fig.show()"
   ]
  },
  {
   "cell_type": "code",
   "execution_count": null,
   "id": "12172065",
   "metadata": {},
   "outputs": [
    {
     "name": "stderr",
     "output_type": "stream",
     "text": [
      "/tmp/ipykernel_32756/2719593717.py:3: DeprecationWarning:\n",
      "\n",
      "*scatter_mapbox* is deprecated! Use *scatter_map* instead. Learn more at: https://plotly.com/python/mapbox-to-maplibre/\n",
      "\n"
     ]
    },
    {
     "data": {
      "application/vnd.plotly.v1+json": {
       "config": {
        "plotlyServerURL": "https://plot.ly"
       },
       "data": [
        {
         "customdata": {
          "bdata": "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",
          "dtype": "f8",
          "shape": "320, 2"
         },
         "hovertemplate": "<b>%{hovertext}</b><br><br>hotel_count=%{customdata[1]}<br>lat=%{lat}<br>lon=%{lon}<br>avg_price=%{marker.color}<extra></extra>",
         "hovertext": [
          "Aarau",
          "Adelboden",
          "Agarn",
          "Airolo",
          "Amden",
          "Andeer",
          "Andelfingen",
          "Andermatt",
          "Anzonico",
          "Anzère",
          "Arbon",
          "Arolla",
          "Arosa",
          "Ascona",
          "Asuel",
          "Avegno",
          "Avenches",
          "Ayer",
          "Bachenbülach",
          "Bad Ragaz",
          "Bad Zurzach",
          "Baden",
          "Balerna",
          "Ballaigues",
          "Balsthal",
          "Basel",
          "Bassersdorf",
          "Beatenberg",
          "Beckenried",
          "Belalp",
          "Bellevue",
          "Bellinzona",
          "Belp",
          "Bern",
          "Bettmeralp",
          "Biasca",
          "Biel/Bienne",
          "Bissone",
          "Bogis-Bossey",
          "Bottighofen",
          "Bottmingen",
          "Bouveret",
          "Brig",
          "Brissago",
          "Brunnen",
          "Brusino Arsizio",
          "Brütten",
          "Buchillon",
          "Bulle",
          "Buochs",
          "Burgdorf",
          "Buttes",
          "Böttstein",
          "Bühler",
          "Bürgenstock",
          "Cademario",
          "Camorino",
          "Carona",
          "Caslano",
          "Castelrotto",
          "Celerina/Schlarigna",
          "Chamoson",
          "Champéry",
          "Chavannes-de-Bogis",
          "Chexbres",
          "Chippis",
          "Chur",
          "Coinsins",
          "Comano",
          "Contra",
          "Crans-Montana",
          "Cugnasco",
          "Curio",
          "Delémont",
          "Dielsdorf",
          "Dietikon",
          "Dongio",
          "Dällikon",
          "Döttingen",
          "Dübendorf",
          "Effretikon",
          "Egerkingen",
          "Eglisau",
          "Eigenthal",
          "Einsiedeln",
          "Embd",
          "Engelberg",
          "Enges",
          "Entlebuch",
          "Estavayer-le-Lac",
          "Etoy",
          "Ettingen",
          "Evilard",
          "Evolène",
          "Fiesch",
          "Fischingen",
          "Flaach",
          "Flurlingen",
          "Founex",
          "Freienbach",
          "Fusio",
          "Gadmen",
          "Gandria",
          "Gerlafingen",
          "Gersau",
          "Gibswil",
          "Giubiasco",
          "Givisiez",
          "Glattbrugg",
          "Goldau",
          "Gordevio",
          "Gordola",
          "Gottlieben",
          "Grandevent",
          "Grenchen",
          "Grimentz",
          "Grindelwald",
          "Grächen",
          "Gstaad",
          "Guggisberg",
          "Guttet-Feschel",
          "Göschenen",
          "Habkern",
          "Hellbühl",
          "Herisau",
          "Horgen",
          "Huttwil",
          "Hérémence",
          "Höri",
          "Innerthal",
          "Innertkirchen",
          "Interlaken",
          "Iseltwald",
          "Isone",
          "Jenaz",
          "Kandersteg",
          "Kerzers",
          "Kiental",
          "Kloten",
          "Kreuzlingen",
          "Kriessern",
          "La Chaux-de-Fonds",
          "La Neuveville",
          "Langenthal",
          "Lausanne",
          "Lauterbrunnen",
          "Lavorgo",
          "Le Brassus",
          "Le Locle",
          "Le Pont",
          "Le Sentier",
          "Lenk im Simmental",
          "Lenzburg",
          "Lenzerheide/Lai",
          "Les Bois",
          "Les Collons",
          "Les Diablerets",
          "Leukerbad",
          "Leysin",
          "Liddes",
          "Liestal",
          "Locarno",
          "Losone",
          "Lugano",
          "Lumbrein",
          "Lungern",
          "Luzern",
          "Lyss",
          "Madiswil",
          "Maienfeld",
          "Maloja",
          "Massagno",
          "Massonnens",
          "Meilen",
          "Meiringen",
          "Melide",
          "Mendrisio",
          "Mesocco",
          "Mezzovico",
          "Mies",
          "Minusio",
          "Mitlödi",
          "Mols",
          "Mont-sur-Rolle",
          "Monte Carasso",
          "Montfaucon",
          "Montreux",
          "Morbio Inferiore",
          "Morcote",
          "Morges",
          "Morgins",
          "Morschach",
          "Mugena",
          "Muotathal",
          "Muralto",
          "Murten",
          "Muttenz",
          "Männedorf",
          "Mörel",
          "Münchenwiler",
          "Münster VS",
          "Mürren",
          "Naters",
          "Neuhausen am Rheinfall",
          "Nyon",
          "Oberentfelden",
          "Oftringen",
          "Olivone",
          "Olten",
          "Opfikon",
          "Orselina",
          "Orsières",
          "Ovronnaz",
          "Paradiso",
          "Perroy",
          "Piotta",
          "Platta",
          "Ponte Tresa",
          "Pontresina",
          "Porza",
          "Poschiavo",
          "Prangins",
          "Pratteln",
          "Prêles",
          "Pugerna",
          "Quarten",
          "Quartino",
          "Quinto",
          "Ramosch",
          "Rheinfelden",
          "Riazzino",
          "Rigi Kaltbad",
          "Rivaz",
          "Rivera",
          "Rolle",
          "Romanshorn",
          "Rorschacherberg",
          "Rothrist",
          "Rueun",
          "Rümlang",
          "Saas-Balen",
          "Saas-Fee",
          "Saignelégier",
          "Samedan",
          "Sargans",
          "Saulcy",
          "Savognin",
          "Sax",
          "Schaffhausen",
          "Schafisheim",
          "Schwyz",
          "Schönenwerd",
          "Schüpfen",
          "Scuol",
          "Sedrun",
          "Sementina",
          "Serpiano",
          "Sevelen",
          "Sigigen",
          "Silvaplana",
          "Sion",
          "Solothurn",
          "Soubey",
          "Speicher",
          "Spiez",
          "Spreitenbach",
          "St. Gallen",
          "St. Moritz",
          "Stabio",
          "Stans",
          "Stansstad",
          "Stein am Rhein",
          "Stettlen",
          "Stäfa",
          "Suchy",
          "Sufers",
          "Sugiez",
          "Sursee",
          "Taverne",
          "Tegna",
          "Thalwil",
          "Thusis",
          "Tramelan",
          "Travers",
          "Täsch",
          "Ulrichen",
          "Uster",
          "Vacallo",
          "Valbella",
          "Valchava",
          "Vals",
          "Vaulruz",
          "Verbier",
          "Vercorin",
          "Versoix",
          "Vevey",
          "Veytaux",
          "Vicosoprano",
          "Villars-sur-Ollon",
          "Villeret",
          "Villmergen",
          "Vinelz",
          "Visp",
          "Vitznau",
          "Vulpera",
          "Waldkirch",
          "Wallisellen",
          "Weesen",
          "Weissbad",
          "Wengen",
          "Wilderswil",
          "Wildhaus",
          "Winterthur",
          "Yverdon-les-Bains",
          "Zermatt",
          "Zernez",
          "Zinal",
          "Zuchwil",
          "Zug",
          "Zürich"
         ],
         "lat": {
          "bdata": "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",
          "dtype": "f8"
         },
         "legendgroup": "",
         "lon": {
          "bdata": "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",
          "dtype": "f8"
         },
         "marker": {
          "color": {
           "bdata": "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",
           "dtype": "f8"
          },
          "coloraxis": "coloraxis",
          "size": {
           "bdata": "AwIBAwEBAQMBAgICAwkBAQIBAQQDAwQBATABAgEBAQgBFAMBBQQBAQEBBgQBAgEBBQEDAQEBAQIBAQEBAgECAQEBBwEBAQkBAQIBAgEBAQICAgEBAgEFAQEDAwEBAgIBAQEBAQEBAQEBAQIBBAEBAQEBAgEDAgUBAQECAQEBAQEBAQEOAQEBBQEBBQQBBQEBFAUCAQEBAQMBBAECAQcEAQITARYBAg0BAQEBAQEBAwMCAQEBAQEBAQEBDAEDAgEBAQEBAgIBAQEBAgEBBQECAgIBAQIDAQEBAQEBAQEBAgEBAQECAQECAQEBAQECAQEEAQICAgEBAQEDAQEBAQQBAQECAQEDAgEBAQQPBAEBAQIBAQEBAQIBAQEBAQIBAgEBAQEBAQMBAQQBAQIBAQEDAQEBAgEBBwQCBgEGAwIBBT8=",
           "dtype": "i1"
          },
          "sizemode": "area",
          "sizeref": 0.07
         },
         "mode": "markers",
         "name": "",
         "showlegend": false,
         "subplot": "mapbox",
         "type": "scattermapbox"
        }
       ],
       "layout": {
        "coloraxis": {
         "colorbar": {
          "title": {
           "text": "avg_price"
          }
         },
         "colorscale": [
          [
           0,
           "#0d0887"
          ],
          [
           0.1111111111111111,
           "#46039f"
          ],
          [
           0.2222222222222222,
           "#7201a8"
          ],
          [
           0.3333333333333333,
           "#9c179e"
          ],
          [
           0.4444444444444444,
           "#bd3786"
          ],
          [
           0.5555555555555556,
           "#d8576b"
          ],
          [
           0.6666666666666666,
           "#ed7953"
          ],
          [
           0.7777777777777778,
           "#fb9f3a"
          ],
          [
           0.8888888888888888,
           "#fdca26"
          ],
          [
           1,
           "#f0f921"
          ]
         ]
        },
        "height": 800,
        "legend": {
         "itemsizing": "constant",
         "tracegroupgap": 0
        },
        "mapbox": {
         "center": {
          "lat": 46.751237603359336,
          "lon": 8.191709926454854
         },
         "domain": {
          "x": [
           0,
           1
          ],
          "y": [
           0,
           1
          ]
         },
         "style": "carto-positron",
         "zoom": 7
        },
        "template": {
         "data": {
          "bar": [
           {
            "error_x": {
             "color": "#2a3f5f"
            },
            "error_y": {
             "color": "#2a3f5f"
            },
            "marker": {
             "line": {
              "color": "#E5ECF6",
              "width": 0.5
             },
             "pattern": {
              "fillmode": "overlay",
              "size": 10,
              "solidity": 0.2
             }
            },
            "type": "bar"
           }
          ],
          "barpolar": [
           {
            "marker": {
             "line": {
              "color": "#E5ECF6",
              "width": 0.5
             },
             "pattern": {
              "fillmode": "overlay",
              "size": 10,
              "solidity": 0.2
             }
            },
            "type": "barpolar"
           }
          ],
          "carpet": [
           {
            "aaxis": {
             "endlinecolor": "#2a3f5f",
             "gridcolor": "white",
             "linecolor": "white",
             "minorgridcolor": "white",
             "startlinecolor": "#2a3f5f"
            },
            "baxis": {
             "endlinecolor": "#2a3f5f",
             "gridcolor": "white",
             "linecolor": "white",
             "minorgridcolor": "white",
             "startlinecolor": "#2a3f5f"
            },
            "type": "carpet"
           }
          ],
          "choropleth": [
           {
            "colorbar": {
             "outlinewidth": 0,
             "ticks": ""
            },
            "type": "choropleth"
           }
          ],
          "contour": [
           {
            "colorbar": {
             "outlinewidth": 0,
             "ticks": ""
            },
            "colorscale": [
             [
              0,
              "#0d0887"
             ],
             [
              0.1111111111111111,
              "#46039f"
             ],
             [
              0.2222222222222222,
              "#7201a8"
             ],
             [
              0.3333333333333333,
              "#9c179e"
             ],
             [
              0.4444444444444444,
              "#bd3786"
             ],
             [
              0.5555555555555556,
              "#d8576b"
             ],
             [
              0.6666666666666666,
              "#ed7953"
             ],
             [
              0.7777777777777778,
              "#fb9f3a"
             ],
             [
              0.8888888888888888,
              "#fdca26"
             ],
             [
              1,
              "#f0f921"
             ]
            ],
            "type": "contour"
           }
          ],
          "contourcarpet": [
           {
            "colorbar": {
             "outlinewidth": 0,
             "ticks": ""
            },
            "type": "contourcarpet"
           }
          ],
          "heatmap": [
           {
            "colorbar": {
             "outlinewidth": 0,
             "ticks": ""
            },
            "colorscale": [
             [
              0,
              "#0d0887"
             ],
             [
              0.1111111111111111,
              "#46039f"
             ],
             [
              0.2222222222222222,
              "#7201a8"
             ],
             [
              0.3333333333333333,
              "#9c179e"
             ],
             [
              0.4444444444444444,
              "#bd3786"
             ],
             [
              0.5555555555555556,
              "#d8576b"
             ],
             [
              0.6666666666666666,
              "#ed7953"
             ],
             [
              0.7777777777777778,
              "#fb9f3a"
             ],
             [
              0.8888888888888888,
              "#fdca26"
             ],
             [
              1,
              "#f0f921"
             ]
            ],
            "type": "heatmap"
           }
          ],
          "histogram": [
           {
            "marker": {
             "pattern": {
              "fillmode": "overlay",
              "size": 10,
              "solidity": 0.2
             }
            },
            "type": "histogram"
           }
          ],
          "histogram2d": [
           {
            "colorbar": {
             "outlinewidth": 0,
             "ticks": ""
            },
            "colorscale": [
             [
              0,
              "#0d0887"
             ],
             [
              0.1111111111111111,
              "#46039f"
             ],
             [
              0.2222222222222222,
              "#7201a8"
             ],
             [
              0.3333333333333333,
              "#9c179e"
             ],
             [
              0.4444444444444444,
              "#bd3786"
             ],
             [
              0.5555555555555556,
              "#d8576b"
             ],
             [
              0.6666666666666666,
              "#ed7953"
             ],
             [
              0.7777777777777778,
              "#fb9f3a"
             ],
             [
              0.8888888888888888,
              "#fdca26"
             ],
             [
              1,
              "#f0f921"
             ]
            ],
            "type": "histogram2d"
           }
          ],
          "histogram2dcontour": [
           {
            "colorbar": {
             "outlinewidth": 0,
             "ticks": ""
            },
            "colorscale": [
             [
              0,
              "#0d0887"
             ],
             [
              0.1111111111111111,
              "#46039f"
             ],
             [
              0.2222222222222222,
              "#7201a8"
             ],
             [
              0.3333333333333333,
              "#9c179e"
             ],
             [
              0.4444444444444444,
              "#bd3786"
             ],
             [
              0.5555555555555556,
              "#d8576b"
             ],
             [
              0.6666666666666666,
              "#ed7953"
             ],
             [
              0.7777777777777778,
              "#fb9f3a"
             ],
             [
              0.8888888888888888,
              "#fdca26"
             ],
             [
              1,
              "#f0f921"
             ]
            ],
            "type": "histogram2dcontour"
           }
          ],
          "mesh3d": [
           {
            "colorbar": {
             "outlinewidth": 0,
             "ticks": ""
            },
            "type": "mesh3d"
           }
          ],
          "parcoords": [
           {
            "line": {
             "colorbar": {
              "outlinewidth": 0,
              "ticks": ""
             }
            },
            "type": "parcoords"
           }
          ],
          "pie": [
           {
            "automargin": true,
            "type": "pie"
           }
          ],
          "scatter": [
           {
            "fillpattern": {
             "fillmode": "overlay",
             "size": 10,
             "solidity": 0.2
            },
            "type": "scatter"
           }
          ],
          "scatter3d": [
           {
            "line": {
             "colorbar": {
              "outlinewidth": 0,
              "ticks": ""
             }
            },
            "marker": {
             "colorbar": {
              "outlinewidth": 0,
              "ticks": ""
             }
            },
            "type": "scatter3d"
           }
          ],
          "scattercarpet": [
           {
            "marker": {
             "colorbar": {
              "outlinewidth": 0,
              "ticks": ""
             }
            },
            "type": "scattercarpet"
           }
          ],
          "scattergeo": [
           {
            "marker": {
             "colorbar": {
              "outlinewidth": 0,
              "ticks": ""
             }
            },
            "type": "scattergeo"
           }
          ],
          "scattergl": [
           {
            "marker": {
             "colorbar": {
              "outlinewidth": 0,
              "ticks": ""
             }
            },
            "type": "scattergl"
           }
          ],
          "scattermap": [
           {
            "marker": {
             "colorbar": {
              "outlinewidth": 0,
              "ticks": ""
             }
            },
            "type": "scattermap"
           }
          ],
          "scattermapbox": [
           {
            "marker": {
             "colorbar": {
              "outlinewidth": 0,
              "ticks": ""
             }
            },
            "type": "scattermapbox"
           }
          ],
          "scatterpolar": [
           {
            "marker": {
             "colorbar": {
              "outlinewidth": 0,
              "ticks": ""
             }
            },
            "type": "scatterpolar"
           }
          ],
          "scatterpolargl": [
           {
            "marker": {
             "colorbar": {
              "outlinewidth": 0,
              "ticks": ""
             }
            },
            "type": "scatterpolargl"
           }
          ],
          "scatterternary": [
           {
            "marker": {
             "colorbar": {
              "outlinewidth": 0,
              "ticks": ""
             }
            },
            "type": "scatterternary"
           }
          ],
          "surface": [
           {
            "colorbar": {
             "outlinewidth": 0,
             "ticks": ""
            },
            "colorscale": [
             [
              0,
              "#0d0887"
             ],
             [
              0.1111111111111111,
              "#46039f"
             ],
             [
              0.2222222222222222,
              "#7201a8"
             ],
             [
              0.3333333333333333,
              "#9c179e"
             ],
             [
              0.4444444444444444,
              "#bd3786"
             ],
             [
              0.5555555555555556,
              "#d8576b"
             ],
             [
              0.6666666666666666,
              "#ed7953"
             ],
             [
              0.7777777777777778,
              "#fb9f3a"
             ],
             [
              0.8888888888888888,
              "#fdca26"
             ],
             [
              1,
              "#f0f921"
             ]
            ],
            "type": "surface"
           }
          ],
          "table": [
           {
            "cells": {
             "fill": {
              "color": "#EBF0F8"
             },
             "line": {
              "color": "white"
             }
            },
            "header": {
             "fill": {
              "color": "#C8D4E3"
             },
             "line": {
              "color": "white"
             }
            },
            "type": "table"
           }
          ]
         },
         "layout": {
          "annotationdefaults": {
           "arrowcolor": "#2a3f5f",
           "arrowhead": 0,
           "arrowwidth": 1
          },
          "autotypenumbers": "strict",
          "coloraxis": {
           "colorbar": {
            "outlinewidth": 0,
            "ticks": ""
           }
          },
          "colorscale": {
           "diverging": [
            [
             0,
             "#8e0152"
            ],
            [
             0.1,
             "#c51b7d"
            ],
            [
             0.2,
             "#de77ae"
            ],
            [
             0.3,
             "#f1b6da"
            ],
            [
             0.4,
             "#fde0ef"
            ],
            [
             0.5,
             "#f7f7f7"
            ],
            [
             0.6,
             "#e6f5d0"
            ],
            [
             0.7,
             "#b8e186"
            ],
            [
             0.8,
             "#7fbc41"
            ],
            [
             0.9,
             "#4d9221"
            ],
            [
             1,
             "#276419"
            ]
           ],
           "sequential": [
            [
             0,
             "#0d0887"
            ],
            [
             0.1111111111111111,
             "#46039f"
            ],
            [
             0.2222222222222222,
             "#7201a8"
            ],
            [
             0.3333333333333333,
             "#9c179e"
            ],
            [
             0.4444444444444444,
             "#bd3786"
            ],
            [
             0.5555555555555556,
             "#d8576b"
            ],
            [
             0.6666666666666666,
             "#ed7953"
            ],
            [
             0.7777777777777778,
             "#fb9f3a"
            ],
            [
             0.8888888888888888,
             "#fdca26"
            ],
            [
             1,
             "#f0f921"
            ]
           ],
           "sequentialminus": [
            [
             0,
             "#0d0887"
            ],
            [
             0.1111111111111111,
             "#46039f"
            ],
            [
             0.2222222222222222,
             "#7201a8"
            ],
            [
             0.3333333333333333,
             "#9c179e"
            ],
            [
             0.4444444444444444,
             "#bd3786"
            ],
            [
             0.5555555555555556,
             "#d8576b"
            ],
            [
             0.6666666666666666,
             "#ed7953"
            ],
            [
             0.7777777777777778,
             "#fb9f3a"
            ],
            [
             0.8888888888888888,
             "#fdca26"
            ],
            [
             1,
             "#f0f921"
            ]
           ]
          },
          "colorway": [
           "#636efa",
           "#EF553B",
           "#00cc96",
           "#ab63fa",
           "#FFA15A",
           "#19d3f3",
           "#FF6692",
           "#B6E880",
           "#FF97FF",
           "#FECB52"
          ],
          "font": {
           "color": "#2a3f5f"
          },
          "geo": {
           "bgcolor": "white",
           "lakecolor": "white",
           "landcolor": "#E5ECF6",
           "showlakes": true,
           "showland": true,
           "subunitcolor": "white"
          },
          "hoverlabel": {
           "align": "left"
          },
          "hovermode": "closest",
          "mapbox": {
           "style": "light"
          },
          "paper_bgcolor": "white",
          "plot_bgcolor": "#E5ECF6",
          "polar": {
           "angularaxis": {
            "gridcolor": "white",
            "linecolor": "white",
            "ticks": ""
           },
           "bgcolor": "#E5ECF6",
           "radialaxis": {
            "gridcolor": "white",
            "linecolor": "white",
            "ticks": ""
           }
          },
          "scene": {
           "xaxis": {
            "backgroundcolor": "#E5ECF6",
            "gridcolor": "white",
            "gridwidth": 2,
            "linecolor": "white",
            "showbackground": true,
            "ticks": "",
            "zerolinecolor": "white"
           },
           "yaxis": {
            "backgroundcolor": "#E5ECF6",
            "gridcolor": "white",
            "gridwidth": 2,
            "linecolor": "white",
            "showbackground": true,
            "ticks": "",
            "zerolinecolor": "white"
           },
           "zaxis": {
            "backgroundcolor": "#E5ECF6",
            "gridcolor": "white",
            "gridwidth": 2,
            "linecolor": "white",
            "showbackground": true,
            "ticks": "",
            "zerolinecolor": "white"
           }
          },
          "shapedefaults": {
           "line": {
            "color": "#2a3f5f"
           }
          },
          "ternary": {
           "aaxis": {
            "gridcolor": "white",
            "linecolor": "white",
            "ticks": ""
           },
           "baxis": {
            "gridcolor": "white",
            "linecolor": "white",
            "ticks": ""
           },
           "bgcolor": "#E5ECF6",
           "caxis": {
            "gridcolor": "white",
            "linecolor": "white",
            "ticks": ""
           }
          },
          "title": {
           "x": 0.05
          },
          "xaxis": {
           "automargin": true,
           "gridcolor": "white",
           "linecolor": "white",
           "ticks": "",
           "title": {
            "standoff": 15
           },
           "zerolinecolor": "white",
           "zerolinewidth": 2
          },
          "yaxis": {
           "automargin": true,
           "gridcolor": "white",
           "linecolor": "white",
           "ticks": "",
           "title": {
            "standoff": 15
           },
           "zerolinecolor": "white",
           "zerolinewidth": 2
          }
         }
        },
        "title": {
         "text": "Combination of both - Swiss Hotels: Bubble Size = Density, Color = Avg Price"
        }
       }
      }
     },
     "metadata": {},
     "output_type": "display_data"
    }
   ],
   "source": [
    "import plotly.express as px\n",
    "\n",
    "fig = px.scatter_mapbox(grouped,\n",
    "                        lat=\"lat\",\n",
    "                        lon=\"lon\",\n",
    "                        size=\"hotel_count\",\n",
    "                        color=\"avg_price\",\n",
    "                        hover_name=\"place_cleaned\",\n",
    "                        hover_data=[\"avg_price\", \"hotel_count\"],\n",
    "                        color_continuous_scale=\"Plasma\",\n",
    "                        size_max=30,\n",
    "                        zoom=7,\n",
    "                        height=800,\n",
    "                        mapbox_style=\"carto-positron\",\n",
    "                        title=\"Combination of both - Swiss Hotels: Bubble Size = Density, Color = Avg Price\")\n",
    "\n",
    "fig.show()"
   ]
  },
  {
   "cell_type": "code",
   "execution_count": null,
   "id": "6224bea2",
   "metadata": {},
   "outputs": [
    {
     "data": {
      "text/html": [
       "<div>\n",
       "<style scoped>\n",
       "    .dataframe tbody tr th:only-of-type {\n",
       "        vertical-align: middle;\n",
       "    }\n",
       "\n",
       "    .dataframe tbody tr th {\n",
       "        vertical-align: top;\n",
       "    }\n",
       "\n",
       "    .dataframe thead th {\n",
       "        text-align: right;\n",
       "    }\n",
       "</style>\n",
       "<table border=\"1\" class=\"dataframe\">\n",
       "  <thead>\n",
       "    <tr style=\"text-align: right;\">\n",
       "      <th></th>\n",
       "      <th>hotel</th>\n",
       "      <th>place_cleaned</th>\n",
       "      <th>price_cleaned</th>\n",
       "      <th>Ortschaftsname</th>\n",
       "      <th>E</th>\n",
       "      <th>N</th>\n",
       "      <th>lon</th>\n",
       "      <th>lat</th>\n",
       "    </tr>\n",
       "  </thead>\n",
       "  <tbody>\n",
       "    <tr>\n",
       "      <th>0</th>\n",
       "      <td>Good Night Inn</td>\n",
       "      <td>Brig</td>\n",
       "      <td>138.0</td>\n",
       "      <td>Brig</td>\n",
       "      <td>2643022.054</td>\n",
       "      <td>1129376.217</td>\n",
       "      <td>7.997168</td>\n",
       "      <td>46.314413</td>\n",
       "    </tr>\n",
       "    <tr>\n",
       "      <th>1</th>\n",
       "      <td>Agriturismo Regusci</td>\n",
       "      <td>Camorino</td>\n",
       "      <td>165.0</td>\n",
       "      <td>Camorino</td>\n",
       "      <td>2721585.340</td>\n",
       "      <td>1112884.534</td>\n",
       "      <td>9.012619</td>\n",
       "      <td>46.156468</td>\n",
       "    </tr>\n",
       "    <tr>\n",
       "      <th>2</th>\n",
       "      <td>Hotel Drei Könige</td>\n",
       "      <td>Einsiedeln</td>\n",
       "      <td>177.0</td>\n",
       "      <td>Einsiedeln</td>\n",
       "      <td>2698493.177</td>\n",
       "      <td>1221093.950</td>\n",
       "      <td>8.736918</td>\n",
       "      <td>47.133499</td>\n",
       "    </tr>\n",
       "    <tr>\n",
       "      <th>3</th>\n",
       "      <td>Eringer Hotel</td>\n",
       "      <td>Hérémence</td>\n",
       "      <td>228.0</td>\n",
       "      <td>Hérémence</td>\n",
       "      <td>2596510.782</td>\n",
       "      <td>1108654.451</td>\n",
       "      <td>7.393503</td>\n",
       "      <td>46.129373</td>\n",
       "    </tr>\n",
       "    <tr>\n",
       "      <th>4</th>\n",
       "      <td>Auberge des Grands Bois</td>\n",
       "      <td>Buchillon</td>\n",
       "      <td>174.0</td>\n",
       "      <td>Buchillon</td>\n",
       "      <td>2520933.442</td>\n",
       "      <td>1146668.837</td>\n",
       "      <td>6.409271</td>\n",
       "      <td>46.466667</td>\n",
       "    </tr>\n",
       "    <tr>\n",
       "      <th>...</th>\n",
       "      <td>...</td>\n",
       "      <td>...</td>\n",
       "      <td>...</td>\n",
       "      <td>...</td>\n",
       "      <td>...</td>\n",
       "      <td>...</td>\n",
       "      <td>...</td>\n",
       "      <td>...</td>\n",
       "    </tr>\n",
       "    <tr>\n",
       "      <th>783</th>\n",
       "      <td>RISTORO TANEDA</td>\n",
       "      <td>Quinto</td>\n",
       "      <td>175.0</td>\n",
       "      <td>Quinto</td>\n",
       "      <td>2698672.858</td>\n",
       "      <td>1152152.723</td>\n",
       "      <td>8.724396</td>\n",
       "      <td>46.513408</td>\n",
       "    </tr>\n",
       "    <tr>\n",
       "      <th>784</th>\n",
       "      <td>KB CityRooms Self-Check-In</td>\n",
       "      <td>Luzern</td>\n",
       "      <td>312.0</td>\n",
       "      <td>Luzern</td>\n",
       "      <td>2665661.302</td>\n",
       "      <td>1213137.408</td>\n",
       "      <td>8.303033</td>\n",
       "      <td>47.066006</td>\n",
       "    </tr>\n",
       "    <tr>\n",
       "      <th>785</th>\n",
       "      <td>Vreneli</td>\n",
       "      <td>Mitlödi</td>\n",
       "      <td>159.0</td>\n",
       "      <td>Mitlödi</td>\n",
       "      <td>2725598.701</td>\n",
       "      <td>1208386.589</td>\n",
       "      <td>9.090588</td>\n",
       "      <td>47.014633</td>\n",
       "    </tr>\n",
       "    <tr>\n",
       "      <th>786</th>\n",
       "      <td>ODELYA - Stadthotel im Park</td>\n",
       "      <td>Basel</td>\n",
       "      <td>292.0</td>\n",
       "      <td>Basel</td>\n",
       "      <td>2611308.850</td>\n",
       "      <td>1267305.821</td>\n",
       "      <td>7.588870</td>\n",
       "      <td>47.556371</td>\n",
       "    </tr>\n",
       "    <tr>\n",
       "      <th>787</th>\n",
       "      <td>ibis Styles Zurich City Center</td>\n",
       "      <td>Zürich</td>\n",
       "      <td>354.0</td>\n",
       "      <td>Zürich</td>\n",
       "      <td>2684773.707</td>\n",
       "      <td>1252454.430</td>\n",
       "      <td>8.562018</td>\n",
       "      <td>47.417441</td>\n",
       "    </tr>\n",
       "  </tbody>\n",
       "</table>\n",
       "<p>788 rows × 8 columns</p>\n",
       "</div>"
      ],
      "text/plain": [
       "                              hotel place_cleaned  price_cleaned  \\\n",
       "0                    Good Night Inn          Brig          138.0   \n",
       "1               Agriturismo Regusci      Camorino          165.0   \n",
       "2                 Hotel Drei Könige    Einsiedeln          177.0   \n",
       "3                     Eringer Hotel     Hérémence          228.0   \n",
       "4           Auberge des Grands Bois     Buchillon          174.0   \n",
       "..                              ...           ...            ...   \n",
       "783                  RISTORO TANEDA        Quinto          175.0   \n",
       "784      KB CityRooms Self-Check-In        Luzern          312.0   \n",
       "785                         Vreneli       Mitlödi          159.0   \n",
       "786     ODELYA - Stadthotel im Park         Basel          292.0   \n",
       "787  ibis Styles Zurich City Center        Zürich          354.0   \n",
       "\n",
       "    Ortschaftsname            E            N       lon        lat  \n",
       "0             Brig  2643022.054  1129376.217  7.997168  46.314413  \n",
       "1         Camorino  2721585.340  1112884.534  9.012619  46.156468  \n",
       "2       Einsiedeln  2698493.177  1221093.950  8.736918  47.133499  \n",
       "3        Hérémence  2596510.782  1108654.451  7.393503  46.129373  \n",
       "4        Buchillon  2520933.442  1146668.837  6.409271  46.466667  \n",
       "..             ...          ...          ...       ...        ...  \n",
       "783         Quinto  2698672.858  1152152.723  8.724396  46.513408  \n",
       "784         Luzern  2665661.302  1213137.408  8.303033  47.066006  \n",
       "785        Mitlödi  2725598.701  1208386.589  9.090588  47.014633  \n",
       "786          Basel  2611308.850  1267305.821  7.588870  47.556371  \n",
       "787         Zürich  2684773.707  1252454.430  8.562018  47.417441  \n",
       "\n",
       "[788 rows x 8 columns]"
      ]
     },
     "execution_count": 62,
     "metadata": {},
     "output_type": "execute_result"
    }
   ],
   "source": [
    "df_combined"
   ]
  }
 ],
 "metadata": {
  "kernelspec": {
   "display_name": "venv",
   "language": "python",
   "name": "python3"
  },
  "language_info": {
   "codemirror_mode": {
    "name": "ipython",
    "version": 3
   },
   "file_extension": ".py",
   "mimetype": "text/x-python",
   "name": "python",
   "nbconvert_exporter": "python",
   "pygments_lexer": "ipython3",
   "version": "3.12.1"
  }
 },
 "nbformat": 4,
 "nbformat_minor": 5
}
