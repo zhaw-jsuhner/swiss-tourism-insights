{
 "cells": [
  {
   "cell_type": "markdown",
   "id": "8907589e",
   "metadata": {},
   "source": [
    "Create connection"
   ]
  },
  {
   "cell_type": "code",
   "execution_count": 15,
   "id": "07dbc877",
   "metadata": {},
   "outputs": [],
   "source": [
    "import pandas as pd\n",
    "from transformers import pipeline\n",
    "import sqlite3\n",
    "\n",
    "# Verbinde mit der SQLite-Datenbank\n",
    "conn = sqlite3.connect('../swiss_travel.db') \n",
    "\n",
    "# SQL Query\n",
    "query = \"\"\"\n",
    "SELECT h.hotel, h.place_cleaned, h.price_cleaned, p.\"Ortschaftsname\", p.E, p.N\n",
    "FROM hotels h\n",
    "INNER JOIN (\n",
    "    SELECT *, ROW_NUMBER() OVER (PARTITION BY \"Ortschaftsname\" ORDER BY \"Ortschaftsname\") AS rn\n",
    "    FROM places\n",
    ") p ON h.place_cleaned = p.\"Ortschaftsname\" AND p.rn = 1\n",
    "\"\"\"\n",
    "\n",
    "df= pd.read_sql_query(query, conn)"
   ]
  },
  {
   "cell_type": "markdown",
   "id": "51fdc841",
   "metadata": {},
   "source": [
    "Add LLM functionality"
   ]
  },
  {
   "cell_type": "code",
   "execution_count": null,
   "id": "a7373e1e",
   "metadata": {},
   "outputs": [],
   "source": [
    "import requests\n",
    "\n",
    "def ollama_query(prompt):\n",
    "    response = requests.post(\n",
    "        \"http://localhost:11434/api/generate\",\n",
    "        json={\n",
    "            \"model\": \"llama3\",  # Or 'mistral' or other model names\n",
    "            \"prompt\": prompt\n",
    "        }\n",
    "    )\n",
    "    full_output = \"\"\n",
    "    for line in response.iter_lines():\n",
    "        if line:\n",
    "            data = line.decode('utf-8')\n",
    "            full_output += data\n",
    "    return full_output\n",
    "\n",
    "# Example prompt\n",
    "result = ollama_query(\"Summarize this hotel information: Hotel ABC in Zurich has 4.5 stars based on 120 reviews and costs 150 CHF per night.\")\n",
    "print(result)"
   ]
  }
 ],
 "metadata": {
  "kernelspec": {
   "display_name": "venv",
   "language": "python",
   "name": "python3"
  },
  "language_info": {
   "codemirror_mode": {
    "name": "ipython",
    "version": 3
   },
   "file_extension": ".py",
   "mimetype": "text/x-python",
   "name": "python",
   "nbconvert_exporter": "python",
   "pygments_lexer": "ipython3",
   "version": "3.12.1"
  }
 },
 "nbformat": 4,
 "nbformat_minor": 5
}
