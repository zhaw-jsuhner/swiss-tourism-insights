{
 "cells": [
  {
   "cell_type": "markdown",
   "id": "ade6de2f",
   "metadata": {},
   "source": [
    "Imports"
   ]
  },
  {
   "cell_type": "code",
   "execution_count": 47,
   "id": "39a58e5b",
   "metadata": {},
   "outputs": [],
   "source": [
    "import sqlite3\n",
    "import pandas as pd"
   ]
  },
  {
   "cell_type": "markdown",
   "id": "4f1abb41",
   "metadata": {},
   "source": [
    "Data Preparation"
   ]
  },
  {
   "cell_type": "code",
   "execution_count": 62,
   "id": "f0e707c4",
   "metadata": {},
   "outputs": [
    {
     "name": "stdout",
     "output_type": "stream",
     "text": [
      "Removed duplicates. New shape: (979, 5)\n"
     ]
    },
    {
     "data": {
      "text/html": [
       "<div>\n",
       "<style scoped>\n",
       "    .dataframe tbody tr th:only-of-type {\n",
       "        vertical-align: middle;\n",
       "    }\n",
       "\n",
       "    .dataframe tbody tr th {\n",
       "        vertical-align: top;\n",
       "    }\n",
       "\n",
       "    .dataframe thead th {\n",
       "        text-align: right;\n",
       "    }\n",
       "</style>\n",
       "<table border=\"1\" class=\"dataframe\">\n",
       "  <thead>\n",
       "    <tr style=\"text-align: right;\">\n",
       "      <th></th>\n",
       "      <th>hotel</th>\n",
       "      <th>place</th>\n",
       "      <th>price_per_night</th>\n",
       "      <th>rating</th>\n",
       "      <th>review_counter</th>\n",
       "    </tr>\n",
       "  </thead>\n",
       "  <tbody>\n",
       "    <tr>\n",
       "      <th>0</th>\n",
       "      <td>Hard Rock Hotel Davos</td>\n",
       "      <td>Davos</td>\n",
       "      <td>€ 225</td>\n",
       "      <td>8,4</td>\n",
       "      <td>1.653 Bewertungen</td>\n",
       "    </tr>\n",
       "    <tr>\n",
       "      <th>1</th>\n",
       "      <td>Good Night Inn</td>\n",
       "      <td>Brig</td>\n",
       "      <td>€ 138</td>\n",
       "      <td>8,2</td>\n",
       "      <td>2.669 Bewertungen</td>\n",
       "    </tr>\n",
       "    <tr>\n",
       "      <th>2</th>\n",
       "      <td>Agriturismo Regusci</td>\n",
       "      <td>Camorino</td>\n",
       "      <td>€ 165</td>\n",
       "      <td>8,7</td>\n",
       "      <td>765 Bewertungen</td>\n",
       "    </tr>\n",
       "    <tr>\n",
       "      <th>3</th>\n",
       "      <td>Ustreia Orta</td>\n",
       "      <td>Lohn</td>\n",
       "      <td>€ 169</td>\n",
       "      <td>9,6</td>\n",
       "      <td>52 Bewertungen</td>\n",
       "    </tr>\n",
       "    <tr>\n",
       "      <th>4</th>\n",
       "      <td>Hotel Drei Könige</td>\n",
       "      <td>Einsiedeln</td>\n",
       "      <td>€ 177</td>\n",
       "      <td>8,6</td>\n",
       "      <td>948 Bewertungen</td>\n",
       "    </tr>\n",
       "  </tbody>\n",
       "</table>\n",
       "</div>"
      ],
      "text/plain": [
       "                   hotel       place price_per_night rating     review_counter\n",
       "0  Hard Rock Hotel Davos       Davos           € 225    8,4  1.653 Bewertungen\n",
       "1         Good Night Inn        Brig           € 138    8,2  2.669 Bewertungen\n",
       "2    Agriturismo Regusci    Camorino           € 165    8,7    765 Bewertungen\n",
       "3           Ustreia Orta        Lohn           € 169    9,6     52 Bewertungen\n",
       "4      Hotel Drei Könige  Einsiedeln           € 177    8,6    948 Bewertungen"
      ]
     },
     "execution_count": 62,
     "metadata": {},
     "output_type": "execute_result"
    }
   ],
   "source": [
    "df = pd.read_csv(\"/workspaces/swiss-tourism-insights/data/hotels_list.csv\")\n",
    "\n",
    "# Drop duplicate rows\n",
    "df.drop_duplicates(inplace=True)\n",
    "print(f\"Removed duplicates. New shape: {df.shape}\")\n",
    "\n",
    "#Check for missing values\n",
    "df.isnull().sum()\n",
    "\n",
    "#Drop rows with critical missing data\n",
    "df = df.dropna(subset=[\"hotel\", \"price_per_night\"])\n",
    "\n",
    "# First few rows\n",
    "df.head()"
   ]
  },
  {
   "cell_type": "code",
   "execution_count": 70,
   "id": "ccf9ef40",
   "metadata": {},
   "outputs": [
    {
     "data": {
      "text/html": [
       "<div>\n",
       "<style scoped>\n",
       "    .dataframe tbody tr th:only-of-type {\n",
       "        vertical-align: middle;\n",
       "    }\n",
       "\n",
       "    .dataframe tbody tr th {\n",
       "        vertical-align: top;\n",
       "    }\n",
       "\n",
       "    .dataframe thead th {\n",
       "        text-align: right;\n",
       "    }\n",
       "</style>\n",
       "<table border=\"1\" class=\"dataframe\">\n",
       "  <thead>\n",
       "    <tr style=\"text-align: right;\">\n",
       "      <th></th>\n",
       "      <th>hotel</th>\n",
       "      <th>place</th>\n",
       "      <th>price_per_night</th>\n",
       "      <th>rating</th>\n",
       "      <th>review_counter</th>\n",
       "      <th>price_cleaned</th>\n",
       "      <th>review_counter_cleaned</th>\n",
       "      <th>rating_cleaned</th>\n",
       "      <th>place_cleaned</th>\n",
       "    </tr>\n",
       "  </thead>\n",
       "  <tbody>\n",
       "    <tr>\n",
       "      <th>0</th>\n",
       "      <td>Hard Rock Hotel Davos</td>\n",
       "      <td>Davos</td>\n",
       "      <td>€ 225</td>\n",
       "      <td>8,4</td>\n",
       "      <td>1.653 Bewertungen</td>\n",
       "      <td>225.0</td>\n",
       "      <td>1653</td>\n",
       "      <td>8.4</td>\n",
       "      <td>Davos</td>\n",
       "    </tr>\n",
       "    <tr>\n",
       "      <th>1</th>\n",
       "      <td>Good Night Inn</td>\n",
       "      <td>Brig</td>\n",
       "      <td>€ 138</td>\n",
       "      <td>8,2</td>\n",
       "      <td>2.669 Bewertungen</td>\n",
       "      <td>138.0</td>\n",
       "      <td>2669</td>\n",
       "      <td>8.2</td>\n",
       "      <td>Brig</td>\n",
       "    </tr>\n",
       "    <tr>\n",
       "      <th>2</th>\n",
       "      <td>Agriturismo Regusci</td>\n",
       "      <td>Camorino</td>\n",
       "      <td>€ 165</td>\n",
       "      <td>8,7</td>\n",
       "      <td>765 Bewertungen</td>\n",
       "      <td>165.0</td>\n",
       "      <td>765</td>\n",
       "      <td>8.7</td>\n",
       "      <td>Camorino</td>\n",
       "    </tr>\n",
       "    <tr>\n",
       "      <th>3</th>\n",
       "      <td>Ustreia Orta</td>\n",
       "      <td>Lohn</td>\n",
       "      <td>€ 169</td>\n",
       "      <td>9,6</td>\n",
       "      <td>52 Bewertungen</td>\n",
       "      <td>169.0</td>\n",
       "      <td>52</td>\n",
       "      <td>9.6</td>\n",
       "      <td>Lohn</td>\n",
       "    </tr>\n",
       "    <tr>\n",
       "      <th>4</th>\n",
       "      <td>Hotel Drei Könige</td>\n",
       "      <td>Einsiedeln</td>\n",
       "      <td>€ 177</td>\n",
       "      <td>8,6</td>\n",
       "      <td>948 Bewertungen</td>\n",
       "      <td>177.0</td>\n",
       "      <td>948</td>\n",
       "      <td>8.6</td>\n",
       "      <td>Einsiedeln</td>\n",
       "    </tr>\n",
       "  </tbody>\n",
       "</table>\n",
       "</div>"
      ],
      "text/plain": [
       "                   hotel       place price_per_night rating  \\\n",
       "0  Hard Rock Hotel Davos       Davos           € 225    8,4   \n",
       "1         Good Night Inn        Brig           € 138    8,2   \n",
       "2    Agriturismo Regusci    Camorino           € 165    8,7   \n",
       "3           Ustreia Orta        Lohn           € 169    9,6   \n",
       "4      Hotel Drei Könige  Einsiedeln           € 177    8,6   \n",
       "\n",
       "      review_counter  price_cleaned  review_counter_cleaned  rating_cleaned  \\\n",
       "0  1.653 Bewertungen          225.0                    1653             8.4   \n",
       "1  2.669 Bewertungen          138.0                    2669             8.2   \n",
       "2    765 Bewertungen          165.0                     765             8.7   \n",
       "3     52 Bewertungen          169.0                      52             9.6   \n",
       "4    948 Bewertungen          177.0                     948             8.6   \n",
       "\n",
       "  place_cleaned  \n",
       "0         Davos  \n",
       "1          Brig  \n",
       "2      Camorino  \n",
       "3          Lohn  \n",
       "4    Einsiedeln  "
      ]
     },
     "execution_count": 70,
     "metadata": {},
     "output_type": "execute_result"
    }
   ],
   "source": [
    "#Convert Data Types\n",
    "df[\"price_cleaned\"] = df[\"price_per_night\"].str.extract(r\"(\\d+)\").astype(float)  # Adjust column name if needed\n",
    "\n",
    "# Clean the review_counter column\n",
    "df[\"review_counter_cleaned\"] = df[\"review_counter\"].str.extract(r\"([\\d\\.]+)\")\n",
    "df[\"review_counter_cleaned\"] = df[\"review_counter_cleaned\"].str.replace(\".\", \"\", regex=False)\n",
    "df[\"review_counter_cleaned\"] = pd.to_numeric(df[\"review_counter_cleaned\"], errors=\"coerce\").astype(\"Int64\")\n",
    "\n",
    "df[\"rating_cleaned\"] = df[\"rating\"].astype(str).str.replace(\",\", \".\", regex=False).astype(float)\n",
    "\n",
    "# Extract the part after the comma in the 'place' column, if available\n",
    "df[\"place_cleaned\"] = df[\"place\"].str.extract(r\",\\s*(.+)$\")  # Extract everything after the comma\n",
    "\n",
    "# Fill missing values (rows without a comma) with the original place\n",
    "df[\"place_cleaned\"] = df[\"place_cleaned\"].fillna(df[\"place\"])\n",
    "\n",
    "df.head()"
   ]
  },
  {
   "cell_type": "markdown",
   "id": "725d0c46",
   "metadata": {},
   "source": [
    "Load data to SQLite Database"
   ]
  },
  {
   "cell_type": "code",
   "execution_count": 77,
   "id": "3428e455",
   "metadata": {},
   "outputs": [
    {
     "name": "stdout",
     "output_type": "stream",
     "text": [
      "Data loaded into SQLite!\n"
     ]
    }
   ],
   "source": [
    "# Load the CSV with semicolon as separator\n",
    "places_df = pd.read_csv('../data/swiss_places.csv', sep=';')\n",
    "\n",
    "# Create SQLite DB in project root folder\n",
    "conn = sqlite3.connect('../swiss_travel.db')\n",
    "\n",
    "# Save tables to DB\n",
    "df.to_sql('hotels', conn, if_exists='replace', index=False)\n",
    "places_df.to_sql('places', conn, if_exists='replace', index=False)\n",
    "\n",
    "print(\"Data loaded into SQLite!\")"
   ]
  }
 ],
 "metadata": {
  "kernelspec": {
   "display_name": "venv",
   "language": "python",
   "name": "python3"
  },
  "language_info": {
   "codemirror_mode": {
    "name": "ipython",
    "version": 3
   },
   "file_extension": ".py",
   "mimetype": "text/x-python",
   "name": "python",
   "nbconvert_exporter": "python",
   "pygments_lexer": "ipython3",
   "version": "3.12.1"
  }
 },
 "nbformat": 4,
 "nbformat_minor": 5
}
